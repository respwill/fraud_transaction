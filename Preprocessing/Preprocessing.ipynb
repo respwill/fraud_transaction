{
 "cells": [
  {
   "cell_type": "markdown",
   "id": "97744de6-18b6-4488-a567-5ddea4e1988a",
   "metadata": {},
   "source": [
    "# Preprocessing"
   ]
  },
  {
   "cell_type": "code",
   "execution_count": 1,
   "id": "adac8f14-25a4-46f8-b302-029bd1c878ab",
   "metadata": {},
   "outputs": [],
   "source": [
    "import pandas as pd\n",
    "from pathlib import Path"
   ]
  },
  {
   "cell_type": "code",
   "execution_count": 2,
   "id": "2e0b0dd1-cbf1-44b8-9c68-7cc4e7a0d33d",
   "metadata": {},
   "outputs": [],
   "source": [
    "data_path = Path(\"../Dataset/\")"
   ]
  },
  {
   "cell_type": "code",
   "execution_count": 3,
   "id": "a6105cf7-b73d-48af-b64e-7c0e11707142",
   "metadata": {},
   "outputs": [],
   "source": [
    "training_data = pd.read_csv(data_path/\"Candidate_tech_evaluation_candidate_copy_data science_fraud.csv\").drop(columns=['Unnamed: 0'])"
   ]
  },
  {
   "cell_type": "markdown",
   "id": "2cf8168d-63d7-4d17-9b1f-dc7e6a52260b",
   "metadata": {},
   "source": [
    "## Time delta in minutes"
   ]
  },
  {
   "cell_type": "code",
   "execution_count": 7,
   "id": "e885b240-73ed-4a21-81bc-e7547ffc45c2",
   "metadata": {},
   "outputs": [],
   "source": [
    "training_data['signup_time_dt'] = pd.to_datetime(training_data['signup_time'])\n",
    "training_data['purchase_time_dt'] = pd.to_datetime(training_data['purchase_time'])\n",
    "training_data['days_signup_purchase'] = training_data['purchase_time_dt'] - training_data['signup_time_dt']\n",
    "training_data['minutes_signup_purchase'] = training_data['days_signup_purchase'].dt.total_seconds()/60"
   ]
  },
  {
   "cell_type": "markdown",
   "id": "80f45be6-1148-4c87-ade0-74e248f0e9fb",
   "metadata": {},
   "source": [
    "## Device ID counting"
   ]
  },
  {
   "cell_type": "code",
   "execution_count": 8,
   "id": "07a773fd-7451-4832-83b9-c40880efbf85",
   "metadata": {},
   "outputs": [],
   "source": [
    "device_map = training_data['device_id'].value_counts().to_dict()\n",
    "training_data['device_count'] = training_data['device_id'].map(device_map)"
   ]
  },
  {
   "cell_type": "markdown",
   "id": "10e7b6ce-1cba-416b-a6d0-1d11943df8bd",
   "metadata": {},
   "source": [
    "# Make Balanced dataset"
   ]
  },
  {
   "cell_type": "code",
   "execution_count": 9,
   "id": "983bcaa3-1a1d-4bcc-a5eb-9b0eaa5f7f05",
   "metadata": {},
   "outputs": [],
   "source": [
    "base_data = training_data[['user_id', 'minutes_signup_purchase', 'device_count', 'class']]"
   ]
  },
  {
   "cell_type": "code",
   "execution_count": 15,
   "id": "bc4acbb3-09d8-4b59-b5b8-11bdaf98fdba",
   "metadata": {},
   "outputs": [
    {
     "data": {
      "text/plain": [
       "(120000, 4)"
      ]
     },
     "execution_count": 15,
     "metadata": {},
     "output_type": "execute_result"
    }
   ],
   "source": [
    "base_data.shape"
   ]
  },
  {
   "cell_type": "code",
   "execution_count": 14,
   "id": "1b65e5e7-183b-45a8-be92-eefe309b5c82",
   "metadata": {},
   "outputs": [
    {
     "data": {
      "text/plain": [
       "(11265, 4)"
      ]
     },
     "execution_count": 14,
     "metadata": {},
     "output_type": "execute_result"
    }
   ],
   "source": [
    "base_data_1 = base_data.loc[base_data['class'] == 1]\n",
    "base_data_1.shape"
   ]
  },
  {
   "cell_type": "markdown",
   "id": "736abd36-93da-48d4-9e45-293a7eb6f672",
   "metadata": {},
   "source": [
    "Since number of fraud transaction is 11265, dataset is imbalanced.  \n",
    "Training on such dataset could be poor performance."
   ]
  },
  {
   "cell_type": "markdown",
   "id": "0ffec0b5-3c77-41b7-8ea9-ee7ad3fa36e3",
   "metadata": {},
   "source": [
    "Sample non-fraud records as many as fraud records."
   ]
  },
  {
   "cell_type": "code",
   "execution_count": 20,
   "id": "e5e3a5ee-f50c-4d3f-a91e-dcde1511a648",
   "metadata": {},
   "outputs": [
    {
     "data": {
      "text/plain": [
       "(11265, 4)"
      ]
     },
     "execution_count": 20,
     "metadata": {},
     "output_type": "execute_result"
    }
   ],
   "source": [
    "base_data_0 = base_data.sample(base_data_1.shape[0], random_state=42)\n",
    "base_data_0.shape"
   ]
  },
  {
   "cell_type": "code",
   "execution_count": 21,
   "id": "6dc94d9a-847f-44ca-9e44-27de6baa6b14",
   "metadata": {},
   "outputs": [
    {
     "data": {
      "text/plain": [
       "(22530, 4)"
      ]
     },
     "execution_count": 21,
     "metadata": {},
     "output_type": "execute_result"
    }
   ],
   "source": [
    "base_data_balance = pd.concat([base_data_0, base_data_1])\n",
    "base_data_balance.shape"
   ]
  },
  {
   "cell_type": "markdown",
   "id": "eddbd3c2-bf42-4a3f-99c2-5d8d81736160",
   "metadata": {},
   "source": [
    "# Data split"
   ]
  },
  {
   "cell_type": "code",
   "execution_count": 10,
   "id": "5db36c5e-5d74-4d52-9db9-e31ba4f7736d",
   "metadata": {},
   "outputs": [],
   "source": [
    "from sklearn.model_selection import train_test_split"
   ]
  },
  {
   "cell_type": "code",
   "execution_count": 22,
   "id": "b9fc7ee4-4025-4ab1-865f-21c07ae489f0",
   "metadata": {},
   "outputs": [],
   "source": [
    "X = base_data_balance[['user_id', 'minutes_signup_purchase', 'device_count']]\n",
    "y = base_data_balance[['class']]\n",
    "X_train, X_test, y_train, y_test = train_test_split(X, y, test_size=0.33, random_state=42, shuffle=True)"
   ]
  },
  {
   "cell_type": "code",
   "execution_count": 23,
   "id": "a2414275-6a63-4157-845e-a56f52d2689a",
   "metadata": {},
   "outputs": [
    {
     "data": {
      "text/plain": [
       "((15095, 3), (15095, 1))"
      ]
     },
     "execution_count": 23,
     "metadata": {},
     "output_type": "execute_result"
    }
   ],
   "source": [
    "X_train.shape, y_train.shape"
   ]
  },
  {
   "cell_type": "code",
   "execution_count": 24,
   "id": "2a940bff-3253-4979-86be-95289d87f5bb",
   "metadata": {},
   "outputs": [
    {
     "data": {
      "text/plain": [
       "((7435, 3), (7435, 1))"
      ]
     },
     "execution_count": 24,
     "metadata": {},
     "output_type": "execute_result"
    }
   ],
   "source": [
    "X_test.shape, y_test.shape"
   ]
  },
  {
   "cell_type": "markdown",
   "id": "be9bb9e4-090c-4e12-8232-746f73fb125c",
   "metadata": {},
   "source": [
    "# Save dataset as CSV"
   ]
  },
  {
   "cell_type": "code",
   "execution_count": 26,
   "id": "5fd95794-decd-41e2-9c65-1da6914a59cb",
   "metadata": {},
   "outputs": [],
   "source": [
    "X_train.to_csv('../Dataset/train_X.csv', index=False)\n",
    "y_train.to_csv('../Dataset/train_y.csv', index=False)\n",
    "X_test.to_csv('../Dataset/test_X.csv', index=False)\n",
    "y_test.to_csv('../Dataset/test_y.csv', index=False)"
   ]
  }
 ],
 "metadata": {
  "kernelspec": {
   "display_name": "Python 3 (ipykernel)",
   "language": "python",
   "name": "python3"
  },
  "language_info": {
   "codemirror_mode": {
    "name": "ipython",
    "version": 3
   },
   "file_extension": ".py",
   "mimetype": "text/x-python",
   "name": "python",
   "nbconvert_exporter": "python",
   "pygments_lexer": "ipython3",
   "version": "3.11.4"
  }
 },
 "nbformat": 4,
 "nbformat_minor": 5
}
