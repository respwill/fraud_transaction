{
 "cells": [
  {
   "cell_type": "markdown",
   "id": "97744de6-18b6-4488-a567-5ddea4e1988a",
   "metadata": {},
   "source": [
    "# Preprocessing"
   ]
  },
  {
   "cell_type": "code",
   "execution_count": 1,
   "id": "adac8f14-25a4-46f8-b302-029bd1c878ab",
   "metadata": {},
   "outputs": [],
   "source": [
    "import pandas as pd\n",
    "from pathlib import Path"
   ]
  },
  {
   "cell_type": "code",
   "execution_count": 2,
   "id": "2e0b0dd1-cbf1-44b8-9c68-7cc4e7a0d33d",
   "metadata": {},
   "outputs": [],
   "source": [
    "data_path = Path(\"../Dataset/\")"
   ]
  },
  {
   "cell_type": "code",
   "execution_count": 27,
   "id": "a6105cf7-b73d-48af-b64e-7c0e11707142",
   "metadata": {},
   "outputs": [],
   "source": [
    "# training_data = pd.read_csv(data_path/\"Candidate_tech_evaluation_candidate_copy_data science_fraud.csv\").drop(columns=['Unnamed: 0'])\n",
    "training_data = pd.read_csv(data_path/\"training_data_with_ipCountry.csv\")"
   ]
  },
  {
   "cell_type": "markdown",
   "id": "2cf8168d-63d7-4d17-9b1f-dc7e6a52260b",
   "metadata": {},
   "source": [
    "## Time delta in minutes"
   ]
  },
  {
   "cell_type": "code",
   "execution_count": 28,
   "id": "e885b240-73ed-4a21-81bc-e7547ffc45c2",
   "metadata": {},
   "outputs": [],
   "source": [
    "training_data['signup_time_dt'] = pd.to_datetime(training_data['signup_time'])\n",
    "training_data['purchase_time_dt'] = pd.to_datetime(training_data['purchase_time'])\n",
    "training_data['days_signup_purchase'] = training_data['purchase_time_dt'] - training_data['signup_time_dt']\n",
    "training_data['minutes_signup_purchase'] = training_data['days_signup_purchase'].dt.total_seconds()/60"
   ]
  },
  {
   "cell_type": "markdown",
   "id": "80f45be6-1148-4c87-ade0-74e248f0e9fb",
   "metadata": {},
   "source": [
    "## Device ID counting"
   ]
  },
  {
   "cell_type": "code",
   "execution_count": 29,
   "id": "07a773fd-7451-4832-83b9-c40880efbf85",
   "metadata": {},
   "outputs": [],
   "source": [
    "device_map = training_data['device_id'].value_counts().to_dict()\n",
    "training_data['device_count'] = training_data['device_id'].map(device_map)"
   ]
  },
  {
   "cell_type": "markdown",
   "id": "859d6c8b-939c-4c5b-b07b-fd155afb4f77",
   "metadata": {},
   "source": [
    "## Country\n",
    "To input country data into machine learning model, one hot encoding should be performed."
   ]
  },
  {
   "cell_type": "code",
   "execution_count": 43,
   "id": "22839fb3-d234-43eb-a8ba-54670be901ca",
   "metadata": {},
   "outputs": [],
   "source": [
    "from sklearn.preprocessing import OneHotEncoder"
   ]
  },
  {
   "cell_type": "code",
   "execution_count": 46,
   "id": "2bbe7395-1555-40b5-ba73-7d58fbeebe23",
   "metadata": {},
   "outputs": [],
   "source": [
    "enc = OneHotEncoder()\n",
    "country_one_hot = pd.DataFrame(enc.fit_transform(training_data[['ip_country']]).toarray())"
   ]
  },
  {
   "cell_type": "code",
   "execution_count": 47,
   "id": "524821f2-8606-4929-82f9-51d02fd17558",
   "metadata": {},
   "outputs": [
    {
     "data": {
      "text/html": [
       "<div>\n",
       "<style scoped>\n",
       "    .dataframe tbody tr th:only-of-type {\n",
       "        vertical-align: middle;\n",
       "    }\n",
       "\n",
       "    .dataframe tbody tr th {\n",
       "        vertical-align: top;\n",
       "    }\n",
       "\n",
       "    .dataframe thead th {\n",
       "        text-align: right;\n",
       "    }\n",
       "</style>\n",
       "<table border=\"1\" class=\"dataframe\">\n",
       "  <thead>\n",
       "    <tr style=\"text-align: right;\">\n",
       "      <th></th>\n",
       "      <th>0</th>\n",
       "      <th>1</th>\n",
       "      <th>2</th>\n",
       "      <th>3</th>\n",
       "      <th>4</th>\n",
       "      <th>5</th>\n",
       "      <th>6</th>\n",
       "      <th>7</th>\n",
       "      <th>8</th>\n",
       "      <th>9</th>\n",
       "      <th>...</th>\n",
       "      <th>167</th>\n",
       "      <th>168</th>\n",
       "      <th>169</th>\n",
       "      <th>170</th>\n",
       "      <th>171</th>\n",
       "      <th>172</th>\n",
       "      <th>173</th>\n",
       "      <th>174</th>\n",
       "      <th>175</th>\n",
       "      <th>176</th>\n",
       "    </tr>\n",
       "  </thead>\n",
       "  <tbody>\n",
       "    <tr>\n",
       "      <th>0</th>\n",
       "      <td>0.0</td>\n",
       "      <td>0.0</td>\n",
       "      <td>0.0</td>\n",
       "      <td>0.0</td>\n",
       "      <td>0.0</td>\n",
       "      <td>0.0</td>\n",
       "      <td>0.0</td>\n",
       "      <td>0.0</td>\n",
       "      <td>0.0</td>\n",
       "      <td>0.0</td>\n",
       "      <td>...</td>\n",
       "      <td>1.0</td>\n",
       "      <td>0.0</td>\n",
       "      <td>0.0</td>\n",
       "      <td>0.0</td>\n",
       "      <td>0.0</td>\n",
       "      <td>0.0</td>\n",
       "      <td>0.0</td>\n",
       "      <td>0.0</td>\n",
       "      <td>0.0</td>\n",
       "      <td>0.0</td>\n",
       "    </tr>\n",
       "    <tr>\n",
       "      <th>1</th>\n",
       "      <td>0.0</td>\n",
       "      <td>0.0</td>\n",
       "      <td>0.0</td>\n",
       "      <td>0.0</td>\n",
       "      <td>0.0</td>\n",
       "      <td>0.0</td>\n",
       "      <td>0.0</td>\n",
       "      <td>0.0</td>\n",
       "      <td>0.0</td>\n",
       "      <td>0.0</td>\n",
       "      <td>...</td>\n",
       "      <td>0.0</td>\n",
       "      <td>0.0</td>\n",
       "      <td>0.0</td>\n",
       "      <td>0.0</td>\n",
       "      <td>0.0</td>\n",
       "      <td>0.0</td>\n",
       "      <td>0.0</td>\n",
       "      <td>0.0</td>\n",
       "      <td>0.0</td>\n",
       "      <td>0.0</td>\n",
       "    </tr>\n",
       "    <tr>\n",
       "      <th>2</th>\n",
       "      <td>0.0</td>\n",
       "      <td>0.0</td>\n",
       "      <td>0.0</td>\n",
       "      <td>0.0</td>\n",
       "      <td>0.0</td>\n",
       "      <td>0.0</td>\n",
       "      <td>0.0</td>\n",
       "      <td>0.0</td>\n",
       "      <td>0.0</td>\n",
       "      <td>0.0</td>\n",
       "      <td>...</td>\n",
       "      <td>1.0</td>\n",
       "      <td>0.0</td>\n",
       "      <td>0.0</td>\n",
       "      <td>0.0</td>\n",
       "      <td>0.0</td>\n",
       "      <td>0.0</td>\n",
       "      <td>0.0</td>\n",
       "      <td>0.0</td>\n",
       "      <td>0.0</td>\n",
       "      <td>0.0</td>\n",
       "    </tr>\n",
       "    <tr>\n",
       "      <th>3</th>\n",
       "      <td>0.0</td>\n",
       "      <td>0.0</td>\n",
       "      <td>0.0</td>\n",
       "      <td>0.0</td>\n",
       "      <td>0.0</td>\n",
       "      <td>0.0</td>\n",
       "      <td>0.0</td>\n",
       "      <td>0.0</td>\n",
       "      <td>0.0</td>\n",
       "      <td>0.0</td>\n",
       "      <td>...</td>\n",
       "      <td>0.0</td>\n",
       "      <td>0.0</td>\n",
       "      <td>0.0</td>\n",
       "      <td>0.0</td>\n",
       "      <td>0.0</td>\n",
       "      <td>0.0</td>\n",
       "      <td>0.0</td>\n",
       "      <td>0.0</td>\n",
       "      <td>0.0</td>\n",
       "      <td>0.0</td>\n",
       "    </tr>\n",
       "    <tr>\n",
       "      <th>4</th>\n",
       "      <td>0.0</td>\n",
       "      <td>0.0</td>\n",
       "      <td>0.0</td>\n",
       "      <td>0.0</td>\n",
       "      <td>0.0</td>\n",
       "      <td>0.0</td>\n",
       "      <td>0.0</td>\n",
       "      <td>0.0</td>\n",
       "      <td>0.0</td>\n",
       "      <td>0.0</td>\n",
       "      <td>...</td>\n",
       "      <td>0.0</td>\n",
       "      <td>0.0</td>\n",
       "      <td>0.0</td>\n",
       "      <td>0.0</td>\n",
       "      <td>0.0</td>\n",
       "      <td>0.0</td>\n",
       "      <td>0.0</td>\n",
       "      <td>0.0</td>\n",
       "      <td>0.0</td>\n",
       "      <td>0.0</td>\n",
       "    </tr>\n",
       "  </tbody>\n",
       "</table>\n",
       "<p>5 rows × 177 columns</p>\n",
       "</div>"
      ],
      "text/plain": [
       "   0    1    2    3    4    5    6    7    8    9    ...  167  168  169  170  \\\n",
       "0  0.0  0.0  0.0  0.0  0.0  0.0  0.0  0.0  0.0  0.0  ...  1.0  0.0  0.0  0.0   \n",
       "1  0.0  0.0  0.0  0.0  0.0  0.0  0.0  0.0  0.0  0.0  ...  0.0  0.0  0.0  0.0   \n",
       "2  0.0  0.0  0.0  0.0  0.0  0.0  0.0  0.0  0.0  0.0  ...  1.0  0.0  0.0  0.0   \n",
       "3  0.0  0.0  0.0  0.0  0.0  0.0  0.0  0.0  0.0  0.0  ...  0.0  0.0  0.0  0.0   \n",
       "4  0.0  0.0  0.0  0.0  0.0  0.0  0.0  0.0  0.0  0.0  ...  0.0  0.0  0.0  0.0   \n",
       "\n",
       "   171  172  173  174  175  176  \n",
       "0  0.0  0.0  0.0  0.0  0.0  0.0  \n",
       "1  0.0  0.0  0.0  0.0  0.0  0.0  \n",
       "2  0.0  0.0  0.0  0.0  0.0  0.0  \n",
       "3  0.0  0.0  0.0  0.0  0.0  0.0  \n",
       "4  0.0  0.0  0.0  0.0  0.0  0.0  \n",
       "\n",
       "[5 rows x 177 columns]"
      ]
     },
     "execution_count": 47,
     "metadata": {},
     "output_type": "execute_result"
    }
   ],
   "source": [
    "country_one_hot.head()"
   ]
  },
  {
   "cell_type": "markdown",
   "id": "740de1c6-3e4d-43bb-90c4-861eb48a0055",
   "metadata": {},
   "source": [
    "# Base dataset"
   ]
  },
  {
   "cell_type": "code",
   "execution_count": 48,
   "id": "efe914de-dc7f-4aa9-b926-6861973f3429",
   "metadata": {},
   "outputs": [],
   "source": [
    "base_data = training_data[['user_id', 'minutes_signup_purchase', 'device_count', 'class']].join(country_one_hot)"
   ]
  },
  {
   "cell_type": "code",
   "execution_count": 49,
   "id": "24647769-161f-4383-a42d-3bf42f84e57f",
   "metadata": {},
   "outputs": [
    {
     "data": {
      "text/html": [
       "<div>\n",
       "<style scoped>\n",
       "    .dataframe tbody tr th:only-of-type {\n",
       "        vertical-align: middle;\n",
       "    }\n",
       "\n",
       "    .dataframe tbody tr th {\n",
       "        vertical-align: top;\n",
       "    }\n",
       "\n",
       "    .dataframe thead th {\n",
       "        text-align: right;\n",
       "    }\n",
       "</style>\n",
       "<table border=\"1\" class=\"dataframe\">\n",
       "  <thead>\n",
       "    <tr style=\"text-align: right;\">\n",
       "      <th></th>\n",
       "      <th>user_id</th>\n",
       "      <th>minutes_signup_purchase</th>\n",
       "      <th>device_count</th>\n",
       "      <th>class</th>\n",
       "      <th>0</th>\n",
       "      <th>1</th>\n",
       "      <th>2</th>\n",
       "      <th>3</th>\n",
       "      <th>4</th>\n",
       "      <th>5</th>\n",
       "      <th>...</th>\n",
       "      <th>167</th>\n",
       "      <th>168</th>\n",
       "      <th>169</th>\n",
       "      <th>170</th>\n",
       "      <th>171</th>\n",
       "      <th>172</th>\n",
       "      <th>173</th>\n",
       "      <th>174</th>\n",
       "      <th>175</th>\n",
       "      <th>176</th>\n",
       "    </tr>\n",
       "  </thead>\n",
       "  <tbody>\n",
       "    <tr>\n",
       "      <th>0</th>\n",
       "      <td>285108</td>\n",
       "      <td>82661.0</td>\n",
       "      <td>2</td>\n",
       "      <td>0</td>\n",
       "      <td>0.0</td>\n",
       "      <td>0.0</td>\n",
       "      <td>0.0</td>\n",
       "      <td>0.0</td>\n",
       "      <td>0.0</td>\n",
       "      <td>0.0</td>\n",
       "      <td>...</td>\n",
       "      <td>1.0</td>\n",
       "      <td>0.0</td>\n",
       "      <td>0.0</td>\n",
       "      <td>0.0</td>\n",
       "      <td>0.0</td>\n",
       "      <td>0.0</td>\n",
       "      <td>0.0</td>\n",
       "      <td>0.0</td>\n",
       "      <td>0.0</td>\n",
       "      <td>0.0</td>\n",
       "    </tr>\n",
       "    <tr>\n",
       "      <th>1</th>\n",
       "      <td>131009</td>\n",
       "      <td>113304.0</td>\n",
       "      <td>1</td>\n",
       "      <td>0</td>\n",
       "      <td>0.0</td>\n",
       "      <td>0.0</td>\n",
       "      <td>0.0</td>\n",
       "      <td>0.0</td>\n",
       "      <td>0.0</td>\n",
       "      <td>0.0</td>\n",
       "      <td>...</td>\n",
       "      <td>0.0</td>\n",
       "      <td>0.0</td>\n",
       "      <td>0.0</td>\n",
       "      <td>0.0</td>\n",
       "      <td>0.0</td>\n",
       "      <td>0.0</td>\n",
       "      <td>0.0</td>\n",
       "      <td>0.0</td>\n",
       "      <td>0.0</td>\n",
       "      <td>0.0</td>\n",
       "    </tr>\n",
       "    <tr>\n",
       "      <th>2</th>\n",
       "      <td>328855</td>\n",
       "      <td>36689.0</td>\n",
       "      <td>1</td>\n",
       "      <td>0</td>\n",
       "      <td>0.0</td>\n",
       "      <td>0.0</td>\n",
       "      <td>0.0</td>\n",
       "      <td>0.0</td>\n",
       "      <td>0.0</td>\n",
       "      <td>0.0</td>\n",
       "      <td>...</td>\n",
       "      <td>1.0</td>\n",
       "      <td>0.0</td>\n",
       "      <td>0.0</td>\n",
       "      <td>0.0</td>\n",
       "      <td>0.0</td>\n",
       "      <td>0.0</td>\n",
       "      <td>0.0</td>\n",
       "      <td>0.0</td>\n",
       "      <td>0.0</td>\n",
       "      <td>0.0</td>\n",
       "    </tr>\n",
       "    <tr>\n",
       "      <th>3</th>\n",
       "      <td>229053</td>\n",
       "      <td>2693.0</td>\n",
       "      <td>1</td>\n",
       "      <td>0</td>\n",
       "      <td>0.0</td>\n",
       "      <td>0.0</td>\n",
       "      <td>0.0</td>\n",
       "      <td>0.0</td>\n",
       "      <td>0.0</td>\n",
       "      <td>0.0</td>\n",
       "      <td>...</td>\n",
       "      <td>0.0</td>\n",
       "      <td>0.0</td>\n",
       "      <td>0.0</td>\n",
       "      <td>0.0</td>\n",
       "      <td>0.0</td>\n",
       "      <td>0.0</td>\n",
       "      <td>0.0</td>\n",
       "      <td>0.0</td>\n",
       "      <td>0.0</td>\n",
       "      <td>0.0</td>\n",
       "    </tr>\n",
       "    <tr>\n",
       "      <th>4</th>\n",
       "      <td>108439</td>\n",
       "      <td>85995.0</td>\n",
       "      <td>1</td>\n",
       "      <td>0</td>\n",
       "      <td>0.0</td>\n",
       "      <td>0.0</td>\n",
       "      <td>0.0</td>\n",
       "      <td>0.0</td>\n",
       "      <td>0.0</td>\n",
       "      <td>0.0</td>\n",
       "      <td>...</td>\n",
       "      <td>0.0</td>\n",
       "      <td>0.0</td>\n",
       "      <td>0.0</td>\n",
       "      <td>0.0</td>\n",
       "      <td>0.0</td>\n",
       "      <td>0.0</td>\n",
       "      <td>0.0</td>\n",
       "      <td>0.0</td>\n",
       "      <td>0.0</td>\n",
       "      <td>0.0</td>\n",
       "    </tr>\n",
       "  </tbody>\n",
       "</table>\n",
       "<p>5 rows × 181 columns</p>\n",
       "</div>"
      ],
      "text/plain": [
       "   user_id  minutes_signup_purchase  device_count  class    0    1    2    3  \\\n",
       "0   285108                  82661.0             2      0  0.0  0.0  0.0  0.0   \n",
       "1   131009                 113304.0             1      0  0.0  0.0  0.0  0.0   \n",
       "2   328855                  36689.0             1      0  0.0  0.0  0.0  0.0   \n",
       "3   229053                   2693.0             1      0  0.0  0.0  0.0  0.0   \n",
       "4   108439                  85995.0             1      0  0.0  0.0  0.0  0.0   \n",
       "\n",
       "     4    5  ...  167  168  169  170  171  172  173  174  175  176  \n",
       "0  0.0  0.0  ...  1.0  0.0  0.0  0.0  0.0  0.0  0.0  0.0  0.0  0.0  \n",
       "1  0.0  0.0  ...  0.0  0.0  0.0  0.0  0.0  0.0  0.0  0.0  0.0  0.0  \n",
       "2  0.0  0.0  ...  1.0  0.0  0.0  0.0  0.0  0.0  0.0  0.0  0.0  0.0  \n",
       "3  0.0  0.0  ...  0.0  0.0  0.0  0.0  0.0  0.0  0.0  0.0  0.0  0.0  \n",
       "4  0.0  0.0  ...  0.0  0.0  0.0  0.0  0.0  0.0  0.0  0.0  0.0  0.0  \n",
       "\n",
       "[5 rows x 181 columns]"
      ]
     },
     "execution_count": 49,
     "metadata": {},
     "output_type": "execute_result"
    }
   ],
   "source": [
    "base_data.head()"
   ]
  },
  {
   "cell_type": "code",
   "execution_count": 50,
   "id": "5a5f9562-11a5-4817-97fe-b9fd05b9471d",
   "metadata": {},
   "outputs": [
    {
     "data": {
      "text/plain": [
       "(120000, 181)"
      ]
     },
     "execution_count": 50,
     "metadata": {},
     "output_type": "execute_result"
    }
   ],
   "source": [
    "base_data.shape"
   ]
  },
  {
   "cell_type": "markdown",
   "id": "10e7b6ce-1cba-416b-a6d0-1d11943df8bd",
   "metadata": {},
   "source": [
    "# Make Balanced dataset"
   ]
  },
  {
   "cell_type": "code",
   "execution_count": 51,
   "id": "1b65e5e7-183b-45a8-be92-eefe309b5c82",
   "metadata": {},
   "outputs": [
    {
     "data": {
      "text/plain": [
       "(11265, 181)"
      ]
     },
     "execution_count": 51,
     "metadata": {},
     "output_type": "execute_result"
    }
   ],
   "source": [
    "base_data_1 = base_data.loc[base_data['class'] == 1]\n",
    "base_data_1.shape"
   ]
  },
  {
   "cell_type": "markdown",
   "id": "736abd36-93da-48d4-9e45-293a7eb6f672",
   "metadata": {},
   "source": [
    "Since number of fraud transaction is 11265, dataset is imbalanced.  \n",
    "Training on such dataset could be poor performance."
   ]
  },
  {
   "cell_type": "markdown",
   "id": "0ffec0b5-3c77-41b7-8ea9-ee7ad3fa36e3",
   "metadata": {},
   "source": [
    "Sample non-fraud records as many as fraud records."
   ]
  },
  {
   "cell_type": "code",
   "execution_count": 52,
   "id": "e5e3a5ee-f50c-4d3f-a91e-dcde1511a648",
   "metadata": {},
   "outputs": [
    {
     "data": {
      "text/plain": [
       "(11265, 181)"
      ]
     },
     "execution_count": 52,
     "metadata": {},
     "output_type": "execute_result"
    }
   ],
   "source": [
    "base_data_0 = base_data.sample(base_data_1.shape[0], random_state=42)\n",
    "base_data_0.shape"
   ]
  },
  {
   "cell_type": "code",
   "execution_count": 53,
   "id": "6dc94d9a-847f-44ca-9e44-27de6baa6b14",
   "metadata": {},
   "outputs": [
    {
     "data": {
      "text/plain": [
       "(22530, 181)"
      ]
     },
     "execution_count": 53,
     "metadata": {},
     "output_type": "execute_result"
    }
   ],
   "source": [
    "base_data_balance = pd.concat([base_data_0, base_data_1])\n",
    "base_data_balance.shape"
   ]
  },
  {
   "cell_type": "markdown",
   "id": "eddbd3c2-bf42-4a3f-99c2-5d8d81736160",
   "metadata": {},
   "source": [
    "# Data split"
   ]
  },
  {
   "cell_type": "code",
   "execution_count": 10,
   "id": "5db36c5e-5d74-4d52-9db9-e31ba4f7736d",
   "metadata": {},
   "outputs": [],
   "source": [
    "from sklearn.model_selection import train_test_split"
   ]
  },
  {
   "cell_type": "code",
   "execution_count": 57,
   "id": "b9fc7ee4-4025-4ab1-865f-21c07ae489f0",
   "metadata": {},
   "outputs": [],
   "source": [
    "X = base_data_balance[[c for c in base_data.columns if c not in ['class']]]\n",
    "y = base_data_balance[['class']]\n",
    "X_train, X_test, y_train, y_test = train_test_split(X, y, test_size=0.33, random_state=42, shuffle=True)"
   ]
  },
  {
   "cell_type": "code",
   "execution_count": 58,
   "id": "a2414275-6a63-4157-845e-a56f52d2689a",
   "metadata": {},
   "outputs": [
    {
     "data": {
      "text/plain": [
       "((15095, 180), (15095, 1))"
      ]
     },
     "execution_count": 58,
     "metadata": {},
     "output_type": "execute_result"
    }
   ],
   "source": [
    "X_train.shape, y_train.shape"
   ]
  },
  {
   "cell_type": "code",
   "execution_count": 59,
   "id": "2a940bff-3253-4979-86be-95289d87f5bb",
   "metadata": {},
   "outputs": [
    {
     "data": {
      "text/plain": [
       "((7435, 180), (7435, 1))"
      ]
     },
     "execution_count": 59,
     "metadata": {},
     "output_type": "execute_result"
    }
   ],
   "source": [
    "X_test.shape, y_test.shape"
   ]
  },
  {
   "cell_type": "markdown",
   "id": "be9bb9e4-090c-4e12-8232-746f73fb125c",
   "metadata": {},
   "source": [
    "# Save dataset as CSV"
   ]
  },
  {
   "cell_type": "code",
   "execution_count": 60,
   "id": "5fd95794-decd-41e2-9c65-1da6914a59cb",
   "metadata": {},
   "outputs": [],
   "source": [
    "X_train.to_csv('../Dataset/train_X.csv', index=False)\n",
    "y_train.to_csv('../Dataset/train_y.csv', index=False)\n",
    "X_test.to_csv('../Dataset/test_X.csv', index=False)\n",
    "y_test.to_csv('../Dataset/test_y.csv', index=False)"
   ]
  }
 ],
 "metadata": {
  "kernelspec": {
   "display_name": "Python 3 (ipykernel)",
   "language": "python",
   "name": "python3"
  },
  "language_info": {
   "codemirror_mode": {
    "name": "ipython",
    "version": 3
   },
   "file_extension": ".py",
   "mimetype": "text/x-python",
   "name": "python",
   "nbconvert_exporter": "python",
   "pygments_lexer": "ipython3",
   "version": "3.11.4"
  }
 },
 "nbformat": 4,
 "nbformat_minor": 5
}
