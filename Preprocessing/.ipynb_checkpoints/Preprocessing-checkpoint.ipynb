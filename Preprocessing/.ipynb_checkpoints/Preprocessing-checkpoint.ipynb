{
 "cells": [
  {
   "cell_type": "markdown",
   "id": "97744de6-18b6-4488-a567-5ddea4e1988a",
   "metadata": {},
   "source": [
    "# Preprocessing"
   ]
  },
  {
   "cell_type": "code",
   "execution_count": 2,
   "id": "adac8f14-25a4-46f8-b302-029bd1c878ab",
   "metadata": {},
   "outputs": [],
   "source": [
    "import pandas as pd\n",
    "from pathlib import Path"
   ]
  },
  {
   "cell_type": "code",
   "execution_count": 3,
   "id": "2e0b0dd1-cbf1-44b8-9c68-7cc4e7a0d33d",
   "metadata": {},
   "outputs": [],
   "source": [
    "data_path = Path(\"../Dataset/\")"
   ]
  },
  {
   "cell_type": "code",
   "execution_count": 4,
   "id": "a6105cf7-b73d-48af-b64e-7c0e11707142",
   "metadata": {},
   "outputs": [],
   "source": [
    "# training_data = pd.read_csv(data_path/\"Candidate_tech_evaluation_candidate_copy_data science_fraud.csv\").drop(columns=['Unnamed: 0'])\n",
    "training_data = pd.read_csv(data_path/\"training_data_with_ipCountry.csv\")"
   ]
  },
  {
   "cell_type": "markdown",
   "id": "2cf8168d-63d7-4d17-9b1f-dc7e6a52260b",
   "metadata": {},
   "source": [
    "## Time delta in minutes"
   ]
  },
  {
   "cell_type": "code",
   "execution_count": 5,
   "id": "e885b240-73ed-4a21-81bc-e7547ffc45c2",
   "metadata": {},
   "outputs": [],
   "source": [
    "training_data['signup_time_dt'] = pd.to_datetime(training_data['signup_time'])\n",
    "training_data['purchase_time_dt'] = pd.to_datetime(training_data['purchase_time'])\n",
    "training_data['days_signup_purchase'] = training_data['purchase_time_dt'] - training_data['signup_time_dt']\n",
    "training_data['minutes_signup_purchase'] = training_data['days_signup_purchase'].dt.total_seconds()/60"
   ]
  },
  {
   "cell_type": "markdown",
   "id": "80f45be6-1148-4c87-ade0-74e248f0e9fb",
   "metadata": {},
   "source": [
    "## Device ID counting"
   ]
  },
  {
   "cell_type": "code",
   "execution_count": 6,
   "id": "07a773fd-7451-4832-83b9-c40880efbf85",
   "metadata": {},
   "outputs": [],
   "source": [
    "device_map = training_data['device_id'].value_counts().to_dict()\n",
    "training_data['device_count'] = training_data['device_id'].map(device_map)"
   ]
  },
  {
   "cell_type": "markdown",
   "id": "859d6c8b-939c-4c5b-b07b-fd155afb4f77",
   "metadata": {},
   "source": [
    "## Country\n",
    "To input country data into machine learning model, one hot encoding should be performed."
   ]
  },
  {
   "cell_type": "code",
   "execution_count": 8,
   "id": "22839fb3-d234-43eb-a8ba-54670be901ca",
   "metadata": {},
   "outputs": [],
   "source": [
    "from sklearn.preprocessing import OneHotEncoder"
   ]
  },
  {
   "cell_type": "code",
   "execution_count": 29,
   "id": "2bbe7395-1555-40b5-ba73-7d58fbeebe23",
   "metadata": {},
   "outputs": [],
   "source": [
    "enc = OneHotEncoder()\n",
    "country_one_hot = pd.DataFrame(enc.fit_transform(training_data[['ip_country']]).toarray())\n",
    "country_one_hot = country_one_hot.add_prefix('country_')"
   ]
  },
  {
   "cell_type": "code",
   "execution_count": 30,
   "id": "524821f2-8606-4929-82f9-51d02fd17558",
   "metadata": {},
   "outputs": [
    {
     "data": {
      "text/html": [
       "<div>\n",
       "<style scoped>\n",
       "    .dataframe tbody tr th:only-of-type {\n",
       "        vertical-align: middle;\n",
       "    }\n",
       "\n",
       "    .dataframe tbody tr th {\n",
       "        vertical-align: top;\n",
       "    }\n",
       "\n",
       "    .dataframe thead th {\n",
       "        text-align: right;\n",
       "    }\n",
       "</style>\n",
       "<table border=\"1\" class=\"dataframe\">\n",
       "  <thead>\n",
       "    <tr style=\"text-align: right;\">\n",
       "      <th></th>\n",
       "      <th>country_0</th>\n",
       "      <th>country_1</th>\n",
       "      <th>country_2</th>\n",
       "      <th>country_3</th>\n",
       "      <th>country_4</th>\n",
       "      <th>country_5</th>\n",
       "      <th>country_6</th>\n",
       "      <th>country_7</th>\n",
       "      <th>country_8</th>\n",
       "      <th>country_9</th>\n",
       "      <th>...</th>\n",
       "      <th>country_167</th>\n",
       "      <th>country_168</th>\n",
       "      <th>country_169</th>\n",
       "      <th>country_170</th>\n",
       "      <th>country_171</th>\n",
       "      <th>country_172</th>\n",
       "      <th>country_173</th>\n",
       "      <th>country_174</th>\n",
       "      <th>country_175</th>\n",
       "      <th>country_176</th>\n",
       "    </tr>\n",
       "  </thead>\n",
       "  <tbody>\n",
       "    <tr>\n",
       "      <th>0</th>\n",
       "      <td>0.0</td>\n",
       "      <td>0.0</td>\n",
       "      <td>0.0</td>\n",
       "      <td>0.0</td>\n",
       "      <td>0.0</td>\n",
       "      <td>0.0</td>\n",
       "      <td>0.0</td>\n",
       "      <td>0.0</td>\n",
       "      <td>0.0</td>\n",
       "      <td>0.0</td>\n",
       "      <td>...</td>\n",
       "      <td>1.0</td>\n",
       "      <td>0.0</td>\n",
       "      <td>0.0</td>\n",
       "      <td>0.0</td>\n",
       "      <td>0.0</td>\n",
       "      <td>0.0</td>\n",
       "      <td>0.0</td>\n",
       "      <td>0.0</td>\n",
       "      <td>0.0</td>\n",
       "      <td>0.0</td>\n",
       "    </tr>\n",
       "    <tr>\n",
       "      <th>1</th>\n",
       "      <td>0.0</td>\n",
       "      <td>0.0</td>\n",
       "      <td>0.0</td>\n",
       "      <td>0.0</td>\n",
       "      <td>0.0</td>\n",
       "      <td>0.0</td>\n",
       "      <td>0.0</td>\n",
       "      <td>0.0</td>\n",
       "      <td>0.0</td>\n",
       "      <td>0.0</td>\n",
       "      <td>...</td>\n",
       "      <td>0.0</td>\n",
       "      <td>0.0</td>\n",
       "      <td>0.0</td>\n",
       "      <td>0.0</td>\n",
       "      <td>0.0</td>\n",
       "      <td>0.0</td>\n",
       "      <td>0.0</td>\n",
       "      <td>0.0</td>\n",
       "      <td>0.0</td>\n",
       "      <td>0.0</td>\n",
       "    </tr>\n",
       "    <tr>\n",
       "      <th>2</th>\n",
       "      <td>0.0</td>\n",
       "      <td>0.0</td>\n",
       "      <td>0.0</td>\n",
       "      <td>0.0</td>\n",
       "      <td>0.0</td>\n",
       "      <td>0.0</td>\n",
       "      <td>0.0</td>\n",
       "      <td>0.0</td>\n",
       "      <td>0.0</td>\n",
       "      <td>0.0</td>\n",
       "      <td>...</td>\n",
       "      <td>1.0</td>\n",
       "      <td>0.0</td>\n",
       "      <td>0.0</td>\n",
       "      <td>0.0</td>\n",
       "      <td>0.0</td>\n",
       "      <td>0.0</td>\n",
       "      <td>0.0</td>\n",
       "      <td>0.0</td>\n",
       "      <td>0.0</td>\n",
       "      <td>0.0</td>\n",
       "    </tr>\n",
       "    <tr>\n",
       "      <th>3</th>\n",
       "      <td>0.0</td>\n",
       "      <td>0.0</td>\n",
       "      <td>0.0</td>\n",
       "      <td>0.0</td>\n",
       "      <td>0.0</td>\n",
       "      <td>0.0</td>\n",
       "      <td>0.0</td>\n",
       "      <td>0.0</td>\n",
       "      <td>0.0</td>\n",
       "      <td>0.0</td>\n",
       "      <td>...</td>\n",
       "      <td>0.0</td>\n",
       "      <td>0.0</td>\n",
       "      <td>0.0</td>\n",
       "      <td>0.0</td>\n",
       "      <td>0.0</td>\n",
       "      <td>0.0</td>\n",
       "      <td>0.0</td>\n",
       "      <td>0.0</td>\n",
       "      <td>0.0</td>\n",
       "      <td>0.0</td>\n",
       "    </tr>\n",
       "    <tr>\n",
       "      <th>4</th>\n",
       "      <td>0.0</td>\n",
       "      <td>0.0</td>\n",
       "      <td>0.0</td>\n",
       "      <td>0.0</td>\n",
       "      <td>0.0</td>\n",
       "      <td>0.0</td>\n",
       "      <td>0.0</td>\n",
       "      <td>0.0</td>\n",
       "      <td>0.0</td>\n",
       "      <td>0.0</td>\n",
       "      <td>...</td>\n",
       "      <td>0.0</td>\n",
       "      <td>0.0</td>\n",
       "      <td>0.0</td>\n",
       "      <td>0.0</td>\n",
       "      <td>0.0</td>\n",
       "      <td>0.0</td>\n",
       "      <td>0.0</td>\n",
       "      <td>0.0</td>\n",
       "      <td>0.0</td>\n",
       "      <td>0.0</td>\n",
       "    </tr>\n",
       "  </tbody>\n",
       "</table>\n",
       "<p>5 rows × 177 columns</p>\n",
       "</div>"
      ],
      "text/plain": [
       "   country_0  country_1  country_2  country_3  country_4  country_5  \\\n",
       "0        0.0        0.0        0.0        0.0        0.0        0.0   \n",
       "1        0.0        0.0        0.0        0.0        0.0        0.0   \n",
       "2        0.0        0.0        0.0        0.0        0.0        0.0   \n",
       "3        0.0        0.0        0.0        0.0        0.0        0.0   \n",
       "4        0.0        0.0        0.0        0.0        0.0        0.0   \n",
       "\n",
       "   country_6  country_7  country_8  country_9  ...  country_167  country_168  \\\n",
       "0        0.0        0.0        0.0        0.0  ...          1.0          0.0   \n",
       "1        0.0        0.0        0.0        0.0  ...          0.0          0.0   \n",
       "2        0.0        0.0        0.0        0.0  ...          1.0          0.0   \n",
       "3        0.0        0.0        0.0        0.0  ...          0.0          0.0   \n",
       "4        0.0        0.0        0.0        0.0  ...          0.0          0.0   \n",
       "\n",
       "   country_169  country_170  country_171  country_172  country_173  \\\n",
       "0          0.0          0.0          0.0          0.0          0.0   \n",
       "1          0.0          0.0          0.0          0.0          0.0   \n",
       "2          0.0          0.0          0.0          0.0          0.0   \n",
       "3          0.0          0.0          0.0          0.0          0.0   \n",
       "4          0.0          0.0          0.0          0.0          0.0   \n",
       "\n",
       "   country_174  country_175  country_176  \n",
       "0          0.0          0.0          0.0  \n",
       "1          0.0          0.0          0.0  \n",
       "2          0.0          0.0          0.0  \n",
       "3          0.0          0.0          0.0  \n",
       "4          0.0          0.0          0.0  \n",
       "\n",
       "[5 rows x 177 columns]"
      ]
     },
     "execution_count": 30,
     "metadata": {},
     "output_type": "execute_result"
    }
   ],
   "source": [
    "country_one_hot.head()"
   ]
  },
  {
   "cell_type": "markdown",
   "id": "b7b240a5",
   "metadata": {},
   "source": [
    "## Time range"
   ]
  },
  {
   "cell_type": "code",
   "execution_count": 12,
   "id": "7d1f2b7e",
   "metadata": {},
   "outputs": [],
   "source": [
    "def set_time_group(time):\n",
    "    if time in range(6, 12):\n",
    "        return 'morning'\n",
    "    elif time in range(12, 18):\n",
    "        return 'afternoon'\n",
    "    elif time in range(18, 24):\n",
    "        return 'evening'\n",
    "    else:\n",
    "        return 'night'"
   ]
  },
  {
   "cell_type": "code",
   "execution_count": 14,
   "id": "d2c1938f",
   "metadata": {},
   "outputs": [],
   "source": [
    "training_data['signup_time_h_dt'] = training_data['signup_time_dt'].dt.hour\n",
    "training_data['purchase_time_h_dt'] = training_data['purchase_time_dt'].dt.hour"
   ]
  },
  {
   "cell_type": "code",
   "execution_count": 15,
   "id": "39010852",
   "metadata": {},
   "outputs": [],
   "source": [
    "training_data['sign_time_range'] = training_data['signup_time_h_dt'].apply(set_time_group)\n",
    "training_data['purchase_time_range'] = training_data['purchase_time_h_dt'].apply(set_time_group)"
   ]
  },
  {
   "cell_type": "code",
   "execution_count": 31,
   "id": "91c1e6ce",
   "metadata": {},
   "outputs": [],
   "source": [
    "enc = OneHotEncoder()\n",
    "sign_time_one_hot = pd.DataFrame(enc.fit_transform(training_data[['sign_time_range']]).toarray())\n",
    "sign_time_one_hot = sign_time_one_hot.add_prefix('signTime_')"
   ]
  },
  {
   "cell_type": "code",
   "execution_count": 32,
   "id": "50a39e4d",
   "metadata": {},
   "outputs": [
    {
     "data": {
      "text/html": [
       "<div>\n",
       "<style scoped>\n",
       "    .dataframe tbody tr th:only-of-type {\n",
       "        vertical-align: middle;\n",
       "    }\n",
       "\n",
       "    .dataframe tbody tr th {\n",
       "        vertical-align: top;\n",
       "    }\n",
       "\n",
       "    .dataframe thead th {\n",
       "        text-align: right;\n",
       "    }\n",
       "</style>\n",
       "<table border=\"1\" class=\"dataframe\">\n",
       "  <thead>\n",
       "    <tr style=\"text-align: right;\">\n",
       "      <th></th>\n",
       "      <th>signTime_0</th>\n",
       "      <th>signTime_1</th>\n",
       "      <th>signTime_2</th>\n",
       "      <th>signTime_3</th>\n",
       "    </tr>\n",
       "  </thead>\n",
       "  <tbody>\n",
       "    <tr>\n",
       "      <th>0</th>\n",
       "      <td>0.0</td>\n",
       "      <td>0.0</td>\n",
       "      <td>0.0</td>\n",
       "      <td>1.0</td>\n",
       "    </tr>\n",
       "    <tr>\n",
       "      <th>1</th>\n",
       "      <td>1.0</td>\n",
       "      <td>0.0</td>\n",
       "      <td>0.0</td>\n",
       "      <td>0.0</td>\n",
       "    </tr>\n",
       "    <tr>\n",
       "      <th>2</th>\n",
       "      <td>0.0</td>\n",
       "      <td>0.0</td>\n",
       "      <td>0.0</td>\n",
       "      <td>1.0</td>\n",
       "    </tr>\n",
       "    <tr>\n",
       "      <th>3</th>\n",
       "      <td>1.0</td>\n",
       "      <td>0.0</td>\n",
       "      <td>0.0</td>\n",
       "      <td>0.0</td>\n",
       "    </tr>\n",
       "    <tr>\n",
       "      <th>4</th>\n",
       "      <td>0.0</td>\n",
       "      <td>1.0</td>\n",
       "      <td>0.0</td>\n",
       "      <td>0.0</td>\n",
       "    </tr>\n",
       "  </tbody>\n",
       "</table>\n",
       "</div>"
      ],
      "text/plain": [
       "   signTime_0  signTime_1  signTime_2  signTime_3\n",
       "0         0.0         0.0         0.0         1.0\n",
       "1         1.0         0.0         0.0         0.0\n",
       "2         0.0         0.0         0.0         1.0\n",
       "3         1.0         0.0         0.0         0.0\n",
       "4         0.0         1.0         0.0         0.0"
      ]
     },
     "execution_count": 32,
     "metadata": {},
     "output_type": "execute_result"
    }
   ],
   "source": [
    "sign_time_one_hot.head()"
   ]
  },
  {
   "cell_type": "code",
   "execution_count": 33,
   "id": "71f9767e",
   "metadata": {},
   "outputs": [],
   "source": [
    "enc = OneHotEncoder()\n",
    "purchase_time_one_hot = pd.DataFrame(enc.fit_transform(training_data[['sign_time_range']]).toarray())\n",
    "purchase_time_one_hot = purchase_time_one_hot.add_prefix('purchaseTime_')"
   ]
  },
  {
   "cell_type": "code",
   "execution_count": 34,
   "id": "5811dc21",
   "metadata": {},
   "outputs": [
    {
     "data": {
      "text/html": [
       "<div>\n",
       "<style scoped>\n",
       "    .dataframe tbody tr th:only-of-type {\n",
       "        vertical-align: middle;\n",
       "    }\n",
       "\n",
       "    .dataframe tbody tr th {\n",
       "        vertical-align: top;\n",
       "    }\n",
       "\n",
       "    .dataframe thead th {\n",
       "        text-align: right;\n",
       "    }\n",
       "</style>\n",
       "<table border=\"1\" class=\"dataframe\">\n",
       "  <thead>\n",
       "    <tr style=\"text-align: right;\">\n",
       "      <th></th>\n",
       "      <th>purchaseTime_0</th>\n",
       "      <th>purchaseTime_1</th>\n",
       "      <th>purchaseTime_2</th>\n",
       "      <th>purchaseTime_3</th>\n",
       "    </tr>\n",
       "  </thead>\n",
       "  <tbody>\n",
       "    <tr>\n",
       "      <th>0</th>\n",
       "      <td>0.0</td>\n",
       "      <td>0.0</td>\n",
       "      <td>0.0</td>\n",
       "      <td>1.0</td>\n",
       "    </tr>\n",
       "    <tr>\n",
       "      <th>1</th>\n",
       "      <td>1.0</td>\n",
       "      <td>0.0</td>\n",
       "      <td>0.0</td>\n",
       "      <td>0.0</td>\n",
       "    </tr>\n",
       "    <tr>\n",
       "      <th>2</th>\n",
       "      <td>0.0</td>\n",
       "      <td>0.0</td>\n",
       "      <td>0.0</td>\n",
       "      <td>1.0</td>\n",
       "    </tr>\n",
       "    <tr>\n",
       "      <th>3</th>\n",
       "      <td>1.0</td>\n",
       "      <td>0.0</td>\n",
       "      <td>0.0</td>\n",
       "      <td>0.0</td>\n",
       "    </tr>\n",
       "    <tr>\n",
       "      <th>4</th>\n",
       "      <td>0.0</td>\n",
       "      <td>1.0</td>\n",
       "      <td>0.0</td>\n",
       "      <td>0.0</td>\n",
       "    </tr>\n",
       "  </tbody>\n",
       "</table>\n",
       "</div>"
      ],
      "text/plain": [
       "   purchaseTime_0  purchaseTime_1  purchaseTime_2  purchaseTime_3\n",
       "0             0.0             0.0             0.0             1.0\n",
       "1             1.0             0.0             0.0             0.0\n",
       "2             0.0             0.0             0.0             1.0\n",
       "3             1.0             0.0             0.0             0.0\n",
       "4             0.0             1.0             0.0             0.0"
      ]
     },
     "execution_count": 34,
     "metadata": {},
     "output_type": "execute_result"
    }
   ],
   "source": [
    "purchase_time_one_hot.head()"
   ]
  },
  {
   "cell_type": "markdown",
   "id": "af780fa5",
   "metadata": {},
   "source": [
    "## Source"
   ]
  },
  {
   "cell_type": "code",
   "execution_count": 35,
   "id": "ad7e29f7",
   "metadata": {},
   "outputs": [],
   "source": [
    "enc = OneHotEncoder()\n",
    "source_one_hot = pd.DataFrame(enc.fit_transform(training_data[['source']]).toarray())\n",
    "source_one_hot = source_one_hot.add_prefix('source_')"
   ]
  },
  {
   "cell_type": "code",
   "execution_count": 36,
   "id": "d3cada20",
   "metadata": {},
   "outputs": [
    {
     "data": {
      "text/html": [
       "<div>\n",
       "<style scoped>\n",
       "    .dataframe tbody tr th:only-of-type {\n",
       "        vertical-align: middle;\n",
       "    }\n",
       "\n",
       "    .dataframe tbody tr th {\n",
       "        vertical-align: top;\n",
       "    }\n",
       "\n",
       "    .dataframe thead th {\n",
       "        text-align: right;\n",
       "    }\n",
       "</style>\n",
       "<table border=\"1\" class=\"dataframe\">\n",
       "  <thead>\n",
       "    <tr style=\"text-align: right;\">\n",
       "      <th></th>\n",
       "      <th>source_0</th>\n",
       "      <th>source_1</th>\n",
       "      <th>source_2</th>\n",
       "    </tr>\n",
       "  </thead>\n",
       "  <tbody>\n",
       "    <tr>\n",
       "      <th>0</th>\n",
       "      <td>0.0</td>\n",
       "      <td>1.0</td>\n",
       "      <td>0.0</td>\n",
       "    </tr>\n",
       "    <tr>\n",
       "      <th>1</th>\n",
       "      <td>0.0</td>\n",
       "      <td>0.0</td>\n",
       "      <td>1.0</td>\n",
       "    </tr>\n",
       "    <tr>\n",
       "      <th>2</th>\n",
       "      <td>0.0</td>\n",
       "      <td>1.0</td>\n",
       "      <td>0.0</td>\n",
       "    </tr>\n",
       "    <tr>\n",
       "      <th>3</th>\n",
       "      <td>0.0</td>\n",
       "      <td>0.0</td>\n",
       "      <td>1.0</td>\n",
       "    </tr>\n",
       "    <tr>\n",
       "      <th>4</th>\n",
       "      <td>1.0</td>\n",
       "      <td>0.0</td>\n",
       "      <td>0.0</td>\n",
       "    </tr>\n",
       "  </tbody>\n",
       "</table>\n",
       "</div>"
      ],
      "text/plain": [
       "   source_0  source_1  source_2\n",
       "0       0.0       1.0       0.0\n",
       "1       0.0       0.0       1.0\n",
       "2       0.0       1.0       0.0\n",
       "3       0.0       0.0       1.0\n",
       "4       1.0       0.0       0.0"
      ]
     },
     "execution_count": 36,
     "metadata": {},
     "output_type": "execute_result"
    }
   ],
   "source": [
    "source_one_hot.head()"
   ]
  },
  {
   "cell_type": "markdown",
   "id": "740de1c6-3e4d-43bb-90c4-861eb48a0055",
   "metadata": {},
   "source": [
    "# Base dataset"
   ]
  },
  {
   "cell_type": "code",
   "execution_count": 37,
   "id": "9ec735e9",
   "metadata": {},
   "outputs": [],
   "source": [
    "base_data = training_data[['user_id', 'minutes_signup_purchase', 'device_count', \n",
    "                           'purchase_value', 'class']].join(sign_time_one_hot)\n",
    "base_data = base_data.join(purchase_time_one_hot)\n",
    "base_data = base_data.join(source_one_hot)\n",
    "base_data = base_data.join(country_one_hot)"
   ]
  },
  {
   "cell_type": "code",
   "execution_count": 38,
   "id": "24647769-161f-4383-a42d-3bf42f84e57f",
   "metadata": {},
   "outputs": [
    {
     "data": {
      "text/html": [
       "<div>\n",
       "<style scoped>\n",
       "    .dataframe tbody tr th:only-of-type {\n",
       "        vertical-align: middle;\n",
       "    }\n",
       "\n",
       "    .dataframe tbody tr th {\n",
       "        vertical-align: top;\n",
       "    }\n",
       "\n",
       "    .dataframe thead th {\n",
       "        text-align: right;\n",
       "    }\n",
       "</style>\n",
       "<table border=\"1\" class=\"dataframe\">\n",
       "  <thead>\n",
       "    <tr style=\"text-align: right;\">\n",
       "      <th></th>\n",
       "      <th>user_id</th>\n",
       "      <th>minutes_signup_purchase</th>\n",
       "      <th>device_count</th>\n",
       "      <th>purchase_value</th>\n",
       "      <th>class</th>\n",
       "      <th>signTime_0</th>\n",
       "      <th>signTime_1</th>\n",
       "      <th>signTime_2</th>\n",
       "      <th>signTime_3</th>\n",
       "      <th>purchaseTime_0</th>\n",
       "      <th>...</th>\n",
       "      <th>country_167</th>\n",
       "      <th>country_168</th>\n",
       "      <th>country_169</th>\n",
       "      <th>country_170</th>\n",
       "      <th>country_171</th>\n",
       "      <th>country_172</th>\n",
       "      <th>country_173</th>\n",
       "      <th>country_174</th>\n",
       "      <th>country_175</th>\n",
       "      <th>country_176</th>\n",
       "    </tr>\n",
       "  </thead>\n",
       "  <tbody>\n",
       "    <tr>\n",
       "      <th>0</th>\n",
       "      <td>285108</td>\n",
       "      <td>82661.0</td>\n",
       "      <td>2</td>\n",
       "      <td>31</td>\n",
       "      <td>0</td>\n",
       "      <td>0.0</td>\n",
       "      <td>0.0</td>\n",
       "      <td>0.0</td>\n",
       "      <td>1.0</td>\n",
       "      <td>0.0</td>\n",
       "      <td>...</td>\n",
       "      <td>1.0</td>\n",
       "      <td>0.0</td>\n",
       "      <td>0.0</td>\n",
       "      <td>0.0</td>\n",
       "      <td>0.0</td>\n",
       "      <td>0.0</td>\n",
       "      <td>0.0</td>\n",
       "      <td>0.0</td>\n",
       "      <td>0.0</td>\n",
       "      <td>0.0</td>\n",
       "    </tr>\n",
       "    <tr>\n",
       "      <th>1</th>\n",
       "      <td>131009</td>\n",
       "      <td>113304.0</td>\n",
       "      <td>1</td>\n",
       "      <td>31</td>\n",
       "      <td>0</td>\n",
       "      <td>1.0</td>\n",
       "      <td>0.0</td>\n",
       "      <td>0.0</td>\n",
       "      <td>0.0</td>\n",
       "      <td>1.0</td>\n",
       "      <td>...</td>\n",
       "      <td>0.0</td>\n",
       "      <td>0.0</td>\n",
       "      <td>0.0</td>\n",
       "      <td>0.0</td>\n",
       "      <td>0.0</td>\n",
       "      <td>0.0</td>\n",
       "      <td>0.0</td>\n",
       "      <td>0.0</td>\n",
       "      <td>0.0</td>\n",
       "      <td>0.0</td>\n",
       "    </tr>\n",
       "    <tr>\n",
       "      <th>2</th>\n",
       "      <td>328855</td>\n",
       "      <td>36689.0</td>\n",
       "      <td>1</td>\n",
       "      <td>16</td>\n",
       "      <td>0</td>\n",
       "      <td>0.0</td>\n",
       "      <td>0.0</td>\n",
       "      <td>0.0</td>\n",
       "      <td>1.0</td>\n",
       "      <td>0.0</td>\n",
       "      <td>...</td>\n",
       "      <td>1.0</td>\n",
       "      <td>0.0</td>\n",
       "      <td>0.0</td>\n",
       "      <td>0.0</td>\n",
       "      <td>0.0</td>\n",
       "      <td>0.0</td>\n",
       "      <td>0.0</td>\n",
       "      <td>0.0</td>\n",
       "      <td>0.0</td>\n",
       "      <td>0.0</td>\n",
       "    </tr>\n",
       "    <tr>\n",
       "      <th>3</th>\n",
       "      <td>229053</td>\n",
       "      <td>2693.0</td>\n",
       "      <td>1</td>\n",
       "      <td>29</td>\n",
       "      <td>0</td>\n",
       "      <td>1.0</td>\n",
       "      <td>0.0</td>\n",
       "      <td>0.0</td>\n",
       "      <td>0.0</td>\n",
       "      <td>1.0</td>\n",
       "      <td>...</td>\n",
       "      <td>0.0</td>\n",
       "      <td>0.0</td>\n",
       "      <td>0.0</td>\n",
       "      <td>0.0</td>\n",
       "      <td>0.0</td>\n",
       "      <td>0.0</td>\n",
       "      <td>0.0</td>\n",
       "      <td>0.0</td>\n",
       "      <td>0.0</td>\n",
       "      <td>0.0</td>\n",
       "    </tr>\n",
       "    <tr>\n",
       "      <th>4</th>\n",
       "      <td>108439</td>\n",
       "      <td>85995.0</td>\n",
       "      <td>1</td>\n",
       "      <td>26</td>\n",
       "      <td>0</td>\n",
       "      <td>0.0</td>\n",
       "      <td>1.0</td>\n",
       "      <td>0.0</td>\n",
       "      <td>0.0</td>\n",
       "      <td>0.0</td>\n",
       "      <td>...</td>\n",
       "      <td>0.0</td>\n",
       "      <td>0.0</td>\n",
       "      <td>0.0</td>\n",
       "      <td>0.0</td>\n",
       "      <td>0.0</td>\n",
       "      <td>0.0</td>\n",
       "      <td>0.0</td>\n",
       "      <td>0.0</td>\n",
       "      <td>0.0</td>\n",
       "      <td>0.0</td>\n",
       "    </tr>\n",
       "  </tbody>\n",
       "</table>\n",
       "<p>5 rows × 193 columns</p>\n",
       "</div>"
      ],
      "text/plain": [
       "   user_id  minutes_signup_purchase  device_count  purchase_value  class  \\\n",
       "0   285108                  82661.0             2              31      0   \n",
       "1   131009                 113304.0             1              31      0   \n",
       "2   328855                  36689.0             1              16      0   \n",
       "3   229053                   2693.0             1              29      0   \n",
       "4   108439                  85995.0             1              26      0   \n",
       "\n",
       "   signTime_0  signTime_1  signTime_2  signTime_3  purchaseTime_0  ...  \\\n",
       "0         0.0         0.0         0.0         1.0             0.0  ...   \n",
       "1         1.0         0.0         0.0         0.0             1.0  ...   \n",
       "2         0.0         0.0         0.0         1.0             0.0  ...   \n",
       "3         1.0         0.0         0.0         0.0             1.0  ...   \n",
       "4         0.0         1.0         0.0         0.0             0.0  ...   \n",
       "\n",
       "   country_167  country_168  country_169  country_170  country_171  \\\n",
       "0          1.0          0.0          0.0          0.0          0.0   \n",
       "1          0.0          0.0          0.0          0.0          0.0   \n",
       "2          1.0          0.0          0.0          0.0          0.0   \n",
       "3          0.0          0.0          0.0          0.0          0.0   \n",
       "4          0.0          0.0          0.0          0.0          0.0   \n",
       "\n",
       "   country_172  country_173  country_174  country_175  country_176  \n",
       "0          0.0          0.0          0.0          0.0          0.0  \n",
       "1          0.0          0.0          0.0          0.0          0.0  \n",
       "2          0.0          0.0          0.0          0.0          0.0  \n",
       "3          0.0          0.0          0.0          0.0          0.0  \n",
       "4          0.0          0.0          0.0          0.0          0.0  \n",
       "\n",
       "[5 rows x 193 columns]"
      ]
     },
     "execution_count": 38,
     "metadata": {},
     "output_type": "execute_result"
    }
   ],
   "source": [
    "base_data.head()"
   ]
  },
  {
   "cell_type": "code",
   "execution_count": 39,
   "id": "5a5f9562-11a5-4817-97fe-b9fd05b9471d",
   "metadata": {},
   "outputs": [
    {
     "data": {
      "text/plain": [
       "(120000, 193)"
      ]
     },
     "execution_count": 39,
     "metadata": {},
     "output_type": "execute_result"
    }
   ],
   "source": [
    "base_data.shape"
   ]
  },
  {
   "cell_type": "markdown",
   "id": "10e7b6ce-1cba-416b-a6d0-1d11943df8bd",
   "metadata": {},
   "source": [
    "# Make Balanced dataset\n",
    "\n",
    "create synthetically similar dataset"
   ]
  },
  {
   "cell_type": "code",
   "execution_count": 41,
   "id": "58bbb376",
   "metadata": {},
   "outputs": [],
   "source": [
    "from imblearn.over_sampling import SMOTE, ADASYN"
   ]
  },
  {
   "cell_type": "code",
   "execution_count": 43,
   "id": "e4a03ca1",
   "metadata": {},
   "outputs": [],
   "source": [
    "X_data = base_data[[c for c in base_data.columns if c not in ['user_id', 'class']]]\n",
    "y_data = base_data[['class']]"
   ]
  },
  {
   "cell_type": "code",
   "execution_count": 54,
   "id": "a3d91da0",
   "metadata": {},
   "outputs": [],
   "source": [
    "X_resampled, y_resampled = SMOTE(random_state=42, k_neighbors=3).fit_resample(X_data, y_data)"
   ]
  },
  {
   "cell_type": "code",
   "execution_count": 55,
   "id": "24dccb77",
   "metadata": {},
   "outputs": [
    {
     "data": {
      "text/plain": [
       "((217470, 191), (217470, 1))"
      ]
     },
     "execution_count": 55,
     "metadata": {},
     "output_type": "execute_result"
    }
   ],
   "source": [
    "X_resampled.shape, y_resampled.shape"
   ]
  },
  {
   "cell_type": "code",
   "execution_count": 56,
   "id": "edcd654f",
   "metadata": {},
   "outputs": [
    {
     "data": {
      "text/plain": [
       "class\n",
       "0        108735\n",
       "1        108735\n",
       "Name: count, dtype: int64"
      ]
     },
     "execution_count": 56,
     "metadata": {},
     "output_type": "execute_result"
    }
   ],
   "source": [
    "y_resampled.value_counts()"
   ]
  },
  {
   "cell_type": "markdown",
   "id": "eddbd3c2-bf42-4a3f-99c2-5d8d81736160",
   "metadata": {},
   "source": [
    "# Data split"
   ]
  },
  {
   "cell_type": "code",
   "execution_count": 49,
   "id": "5db36c5e-5d74-4d52-9db9-e31ba4f7736d",
   "metadata": {},
   "outputs": [],
   "source": [
    "from sklearn.model_selection import train_test_split"
   ]
  },
  {
   "cell_type": "code",
   "execution_count": 57,
   "id": "b9fc7ee4-4025-4ab1-865f-21c07ae489f0",
   "metadata": {},
   "outputs": [],
   "source": [
    "X_train, X_test, y_train, y_test = train_test_split(X_resampled, y_resampled, test_size=0.33, random_state=42, shuffle=True)"
   ]
  },
  {
   "cell_type": "code",
   "execution_count": 58,
   "id": "a2414275-6a63-4157-845e-a56f52d2689a",
   "metadata": {},
   "outputs": [
    {
     "data": {
      "text/plain": [
       "((145704, 191), (145704, 1))"
      ]
     },
     "execution_count": 58,
     "metadata": {},
     "output_type": "execute_result"
    }
   ],
   "source": [
    "X_train.shape, y_train.shape"
   ]
  },
  {
   "cell_type": "code",
   "execution_count": 59,
   "id": "2a940bff-3253-4979-86be-95289d87f5bb",
   "metadata": {},
   "outputs": [
    {
     "data": {
      "text/plain": [
       "((71766, 191), (71766, 1))"
      ]
     },
     "execution_count": 59,
     "metadata": {},
     "output_type": "execute_result"
    }
   ],
   "source": [
    "X_test.shape, y_test.shape"
   ]
  },
  {
   "cell_type": "markdown",
   "id": "be9bb9e4-090c-4e12-8232-746f73fb125c",
   "metadata": {},
   "source": [
    "# Save dataset as CSV"
   ]
  },
  {
   "cell_type": "code",
   "execution_count": 60,
   "id": "5fd95794-decd-41e2-9c65-1da6914a59cb",
   "metadata": {},
   "outputs": [],
   "source": [
    "X_train.to_csv('../Dataset/SMOTE_train_X.csv', index=False)\n",
    "y_train.to_csv('../Dataset/SMOTE_train_y.csv', index=False)\n",
    "X_test.to_csv('../Dataset/SMOTE_test_X.csv', index=False)\n",
    "y_test.to_csv('../Dataset/SMOTE_test_y.csv', index=False)"
   ]
  }
 ],
 "metadata": {
  "kernelspec": {
   "display_name": "Python 3 (ipykernel)",
   "language": "python",
   "name": "python3"
  },
  "language_info": {
   "codemirror_mode": {
    "name": "ipython",
    "version": 3
   },
   "file_extension": ".py",
   "mimetype": "text/x-python",
   "name": "python",
   "nbconvert_exporter": "python",
   "pygments_lexer": "ipython3",
   "version": "3.8.16"
  }
 },
 "nbformat": 4,
 "nbformat_minor": 5
}
