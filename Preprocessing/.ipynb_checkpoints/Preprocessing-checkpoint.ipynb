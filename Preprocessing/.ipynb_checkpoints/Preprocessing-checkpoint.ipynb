{
 "cells": [
  {
   "cell_type": "markdown",
   "id": "97744de6-18b6-4488-a567-5ddea4e1988a",
   "metadata": {},
   "source": [
    "# Preprocessing"
   ]
  },
  {
   "cell_type": "code",
   "execution_count": 1,
   "id": "adac8f14-25a4-46f8-b302-029bd1c878ab",
   "metadata": {},
   "outputs": [],
   "source": [
    "import pandas as pd\n",
    "from pathlib import Path"
   ]
  },
  {
   "cell_type": "code",
   "execution_count": 2,
   "id": "2e0b0dd1-cbf1-44b8-9c68-7cc4e7a0d33d",
   "metadata": {},
   "outputs": [],
   "source": [
    "data_path = Path(\"../Dataset/\")"
   ]
  },
  {
   "cell_type": "code",
   "execution_count": 3,
   "id": "a6105cf7-b73d-48af-b64e-7c0e11707142",
   "metadata": {},
   "outputs": [],
   "source": [
    "training_data = pd.read_csv(data_path/\"Candidate_tech_evaluation_candidate_copy_data science_fraud.csv\").drop(columns=['Unnamed: 0'])"
   ]
  },
  {
   "cell_type": "markdown",
   "id": "2cf8168d-63d7-4d17-9b1f-dc7e6a52260b",
   "metadata": {},
   "source": [
    "## Time delta in minutes"
   ]
  },
  {
   "cell_type": "code",
   "execution_count": 7,
   "id": "e885b240-73ed-4a21-81bc-e7547ffc45c2",
   "metadata": {},
   "outputs": [],
   "source": [
    "training_data['signup_time_dt'] = pd.to_datetime(training_data['signup_time'])\n",
    "training_data['purchase_time_dt'] = pd.to_datetime(training_data['purchase_time'])\n",
    "training_data['days_signup_purchase'] = training_data['purchase_time_dt'] - training_data['signup_time_dt']\n",
    "training_data['minutes_signup_purchase'] = training_data['days_signup_purchase'].dt.total_seconds()/60"
   ]
  },
  {
   "cell_type": "markdown",
   "id": "80f45be6-1148-4c87-ade0-74e248f0e9fb",
   "metadata": {},
   "source": [
    "## Device ID counting"
   ]
  },
  {
   "cell_type": "code",
   "execution_count": 8,
   "id": "07a773fd-7451-4832-83b9-c40880efbf85",
   "metadata": {},
   "outputs": [],
   "source": [
    "device_map = training_data['device_id'].value_counts().to_dict()\n",
    "training_data['device_count'] = training_data['device_id'].map(device_map)"
   ]
  },
  {
   "cell_type": "markdown",
   "id": "b87fd2c8-d3f8-4faf-b266-894932f2f4d2",
   "metadata": {},
   "source": [
    "# Data split"
   ]
  },
  {
   "cell_type": "code",
   "execution_count": null,
   "id": "5db36c5e-5d74-4d52-9db9-e31ba4f7736d",
   "metadata": {},
   "outputs": [],
   "source": [
    "from sklearn.Da"
   ]
  }
 ],
 "metadata": {
  "kernelspec": {
   "display_name": "Python 3 (ipykernel)",
   "language": "python",
   "name": "python3"
  },
  "language_info": {
   "codemirror_mode": {
    "name": "ipython",
    "version": 3
   },
   "file_extension": ".py",
   "mimetype": "text/x-python",
   "name": "python",
   "nbconvert_exporter": "python",
   "pygments_lexer": "ipython3",
   "version": "3.11.4"
  }
 },
 "nbformat": 4,
 "nbformat_minor": 5
}
