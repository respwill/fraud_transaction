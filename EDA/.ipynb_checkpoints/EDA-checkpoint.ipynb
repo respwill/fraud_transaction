{
 "cells": [
  {
   "cell_type": "code",
   "execution_count": null,
   "id": "5407e0ee-1766-4dd3-87fe-7ea7e80f199b",
   "metadata": {},
   "outputs": [],
   "source": [
    "import pandas as pd\n",
    "from pathlib import Path\n",
    "from datetime import timedelta\n",
    "import altair as alt\n",
    "from IPython.display import Image\n",
    "from altair_saver import save\n",
    "from tqdm import tqdm"
   ]
  },
  {
   "cell_type": "code",
   "execution_count": null,
   "id": "bf8c3d14-3eb6-415f-a692-7e3aefa73064",
   "metadata": {},
   "outputs": [],
   "source": [
    "tqdm.pandas()"
   ]
  },
  {
   "cell_type": "code",
   "execution_count": null,
   "id": "d323c0c5-0ef5-4fd1-86eb-c67a68471c77",
   "metadata": {},
   "outputs": [],
   "source": [
    "alt.data_transformers.disable_max_rows()"
   ]
  },
  {
   "cell_type": "code",
   "execution_count": null,
   "id": "9428f041-304c-4e01-8340-1cbb756b71c3",
   "metadata": {},
   "outputs": [],
   "source": [
    "data_path = Path(\"../Dataset/\")"
   ]
  },
  {
   "cell_type": "code",
   "execution_count": null,
   "id": "241f4d4a-70cd-4bf0-bb7f-b82ca4583616",
   "metadata": {},
   "outputs": [],
   "source": [
    "training_data = pd.read_csv(data_path/\"Candidate_tech_evaluation_candidate_copy_data science_fraud.csv\").drop(columns=['Unnamed: 0'])"
   ]
  },
  {
   "cell_type": "code",
   "execution_count": null,
   "id": "a5b2b9d8-aaa3-4fa7-b976-8ebd36e36592",
   "metadata": {},
   "outputs": [],
   "source": [
    "training_data.head()"
   ]
  },
  {
   "cell_type": "code",
   "execution_count": null,
   "id": "64ad14ad-e010-40e7-ae7b-d30c174cf9d1",
   "metadata": {},
   "outputs": [],
   "source": [
    "ip_address = pd.read_excel(data_path/\"Candidate_tech_evaluation_candidate_copy_datascience_IpAddress_to_Country.xlsx\")"
   ]
  },
  {
   "cell_type": "code",
   "execution_count": null,
   "id": "f5f6cc0c-8e48-4d1d-a787-c17a89257729",
   "metadata": {},
   "outputs": [],
   "source": [
    "ip_address.head()"
   ]
  },
  {
   "cell_type": "code",
   "execution_count": null,
   "id": "978202aa-cecf-40a6-9e53-ba64a27bd7f2",
   "metadata": {},
   "outputs": [],
   "source": [
    "ip_address.shape"
   ]
  },
  {
   "cell_type": "code",
   "execution_count": null,
   "id": "f0604251-c7c7-4a19-bba4-4d93bcfd9f73",
   "metadata": {},
   "outputs": [],
   "source": [
    "ip_address['lower_bound_ip_address'].min(), ip_address['upper_bound_ip_address'].max()"
   ]
  },
  {
   "cell_type": "code",
   "execution_count": null,
   "id": "86188b88-5ba9-475d-8e98-ae7c764246a8",
   "metadata": {},
   "outputs": [],
   "source": [
    "ip_address['upper_bound_ip_address'].max() > training_data['ip_address'].max()"
   ]
  },
  {
   "cell_type": "code",
   "execution_count": null,
   "id": "038be142-5c75-4574-a932-083c97d7496f",
   "metadata": {},
   "outputs": [],
   "source": [
    "ip_address.loc[ip_address['country']=='United States', 'lower_bound_ip_address'].min()"
   ]
  },
  {
   "cell_type": "code",
   "execution_count": null,
   "id": "288ea960-8c2a-45be-a481-08b27c744cfd",
   "metadata": {},
   "outputs": [],
   "source": [
    "ip_address.loc[ip_address['country']=='United States', 'lower_bound_ip_address'].max()"
   ]
  },
  {
   "cell_type": "code",
   "execution_count": null,
   "id": "4b054fc3-c9c6-486c-bf48-ce5e4fcc3099",
   "metadata": {},
   "outputs": [],
   "source": [
    "ip_address.loc[ip_address['country']=='Canada', 'lower_bound_ip_address'].min()"
   ]
  },
  {
   "cell_type": "code",
   "execution_count": null,
   "id": "aca89675-76bf-4a35-ab0f-b994a6545c3e",
   "metadata": {},
   "outputs": [],
   "source": [
    "training_data['ip_address'].min(), training_data['ip_address'].max()"
   ]
  },
  {
   "cell_type": "code",
   "execution_count": null,
   "id": "64728664-db61-455b-99df-2242e0e1a477",
   "metadata": {},
   "outputs": [],
   "source": [
    "op1 = ip_address['lower_bound_ip_address'] >= training_data['ip_address'].min()\n",
    "op2 = ip_address['upper_bound_ip_address'] <= training_data['ip_address'].max() \n",
    "ip_address = ip_address.loc[op1 & op2]"
   ]
  },
  {
   "cell_type": "code",
   "execution_count": null,
   "id": "4b191048-8aa9-4e24-9a34-af28f195780e",
   "metadata": {},
   "outputs": [],
   "source": [
    "ip_address.shape"
   ]
  },
  {
   "cell_type": "code",
   "execution_count": null,
   "id": "291e707d-4572-46e6-9b6b-5f9e359cd924",
   "metadata": {},
   "outputs": [],
   "source": []
  },
  {
   "cell_type": "code",
   "execution_count": null,
   "id": "fad765a2-edc2-4ddb-ad26-687eb23b390b",
   "metadata": {},
   "outputs": [],
   "source": [
    "ip_address['country'].value_counts()"
   ]
  },
  {
   "cell_type": "code",
   "execution_count": null,
   "id": "eb7c4644-447d-4ae0-afa5-31afe279ed12",
   "metadata": {},
   "outputs": [],
   "source": [
    "from inter"
   ]
  },
  {
   "cell_type": "code",
   "execution_count": null,
   "id": "df3fbaf7-4fbe-4f3a-a8db-28c0c39d713c",
   "metadata": {},
   "outputs": [],
   "source": [
    "training_data['ip_address'].value_counts()"
   ]
  },
  {
   "cell_type": "code",
   "execution_count": null,
   "id": "a61c66d2-ddc4-48b0-8bf4-1c14aa508233",
   "metadata": {},
   "outputs": [],
   "source": [
    "def get_ip_country(ip):\n",
    "    lower_bound = ip_address[ip_address['lower_bound_ip_address']<=ip]\n",
    "    upper_bound = lower_bound[lower_bound['upper_bound_ip_address']>=ip]\n",
    "    try:\n",
    "        country = upper_bound['country'].to_numpy()[0]\n",
    "    except:\n",
    "        country = 'Not available'\n",
    "    return country"
   ]
  },
  {
   "cell_type": "code",
   "execution_count": null,
   "id": "dc2cbc21-cc5f-4f91-824f-87e9c61fac9e",
   "metadata": {},
   "outputs": [],
   "source": [
    "training_data_sample = training_data.sample(10)\n",
    "training_data_sample['ip_country'] = training_data_sample['ip_address'].progress_apply(get_ip_country)"
   ]
  },
  {
   "cell_type": "code",
   "execution_count": null,
   "id": "8918a16f-8f67-440e-b531-6abd72556281",
   "metadata": {},
   "outputs": [],
   "source": [
    "training_data_sample.head()"
   ]
  },
  {
   "cell_type": "code",
   "execution_count": null,
   "id": "94de46a9-687e-4907-8ca0-6eb6f04d84e7",
   "metadata": {},
   "outputs": [],
   "source": [
    "training_data['ip_country'] = training_data['ip_address'].progress_apply(get_ip_country)"
   ]
  },
  {
   "cell_type": "code",
   "execution_count": null,
   "id": "8a986369-e365-481e-b156-5246a328a246",
   "metadata": {},
   "outputs": [],
   "source": [
    "training_data.shape"
   ]
  },
  {
   "cell_type": "code",
   "execution_count": null,
   "id": "38d1fde6-e85a-461c-9d75-84a7adb40fad",
   "metadata": {},
   "outputs": [],
   "source": [
    "training_data.to_csv(data_path/\"training_data_with_ipCountry.csv\")"
   ]
  },
  {
   "cell_type": "markdown",
   "id": "ffeba902-b500-4bf9-bdf1-b8e7ae77d7b4",
   "metadata": {},
   "source": [
    "# Data size"
   ]
  },
  {
   "cell_type": "code",
   "execution_count": null,
   "id": "939019b1-b2f0-4ac1-9e41-a47d48dccf8d",
   "metadata": {},
   "outputs": [],
   "source": [
    "training_data.shape"
   ]
  },
  {
   "cell_type": "markdown",
   "id": "4a50db9f-be99-4de2-9e5e-e6e80ba16d51",
   "metadata": {},
   "source": [
    "The dataset is imblanced.  \n",
    "About 9.7% of the record is fraud.  "
   ]
  },
  {
   "cell_type": "code",
   "execution_count": null,
   "id": "617624c4-f2de-4da9-a1f4-1235d1ba89b7",
   "metadata": {},
   "outputs": [],
   "source": [
    "training_data['class'].value_counts()"
   ]
  },
  {
   "cell_type": "code",
   "execution_count": null,
   "id": "f686b3d1-d6c3-4307-9539-9cc54d2de443",
   "metadata": {},
   "outputs": [],
   "source": [
    "training_data['class'].value_counts()[0] / training_data['class'].value_counts()[1]"
   ]
  },
  {
   "cell_type": "markdown",
   "id": "f4d9d92b-e3bc-447a-a86b-70f51f919f0c",
   "metadata": {},
   "source": [
    "# Data time range"
   ]
  },
  {
   "attachments": {},
   "cell_type": "markdown",
   "id": "296d20b2-4276-4c0b-9a3e-430f4a453053",
   "metadata": {},
   "source": [
    "The transactions happend in 2015 and Any user did not signup after Aug 18th.  \n",
    "Each time feature itself seems to be normal"
   ]
  },
  {
   "cell_type": "code",
   "execution_count": null,
   "id": "ffb85fe3-2c7b-4797-a73a-404b304c2efb",
   "metadata": {},
   "outputs": [],
   "source": [
    "training_data['signup_time_dt'] = pd.to_datetime(training_data['signup_time'])\n",
    "training_data['purchase_time_dt'] = pd.to_datetime(training_data['purchase_time'])"
   ]
  },
  {
   "cell_type": "code",
   "execution_count": null,
   "id": "f734f32d-0da4-48a9-9af8-85fc5700a1be",
   "metadata": {},
   "outputs": [],
   "source": [
    "training_data['signup_time_dt'].value_counts()"
   ]
  },
  {
   "cell_type": "code",
   "execution_count": null,
   "id": "5a61b3f6-ba3d-47a5-9451-1bab1b96e4a9",
   "metadata": {},
   "outputs": [],
   "source": [
    "training_data['signup_time_dt'].min(), training_data['signup_time_dt'].max()"
   ]
  },
  {
   "cell_type": "code",
   "execution_count": null,
   "id": "d060c534-553d-4a0e-8e84-da2e5b428be0",
   "metadata": {},
   "outputs": [],
   "source": [
    "training_data['purchase_time_dt'].value_counts()"
   ]
  },
  {
   "cell_type": "code",
   "execution_count": null,
   "id": "5d461d60-8840-46e5-95c6-9b5617d82792",
   "metadata": {},
   "outputs": [],
   "source": [
    "training_data['purchase_time_dt'].min(), training_data['purchase_time_dt'].max()"
   ]
  },
  {
   "cell_type": "markdown",
   "id": "abdcfcfc-c5d7-41a6-9c19-60a0509d0ff8",
   "metadata": {},
   "source": [
    "## **Time Interval**\n",
    "important feature"
   ]
  },
  {
   "cell_type": "markdown",
   "id": "ee1a2b0e-0d98-4529-8636-e38ba469a169",
   "metadata": {},
   "source": [
    "When counted each datetime value above, it seemed some records have same datetime for signup and purchase.  \n",
    "The time difference range between signup and the first purchase is from 0 days to 119 days.  \n",
    "0 days records are suspicious, especially the records that has no time interval"
   ]
  },
  {
   "cell_type": "code",
   "execution_count": null,
   "id": "b871bd0d-095a-4908-b21b-737a138248bf",
   "metadata": {},
   "outputs": [],
   "source": [
    "training_data['days_signup_purchase'] = training_data['purchase_time_dt'] - training_data['signup_time_dt']"
   ]
  },
  {
   "cell_type": "code",
   "execution_count": null,
   "id": "6cea4f8d-8357-460e-84b1-23b451f2f39a",
   "metadata": {},
   "outputs": [],
   "source": [
    "training_data['days_signup_purchase'].value_counts().sort_index()"
   ]
  },
  {
   "cell_type": "code",
   "execution_count": null,
   "id": "ce22a25f-3bd1-4957-b27c-9a8b7f475731",
   "metadata": {},
   "outputs": [],
   "source": [
    "training_data['days_signup_purchase'].min(), training_data['days_signup_purchase'].max()"
   ]
  },
  {
   "cell_type": "markdown",
   "id": "48d36d7a-5fcb-4dae-b4c3-e0d1ec13fc18",
   "metadata": {},
   "source": [
    "convert timedelta into minutes"
   ]
  },
  {
   "cell_type": "code",
   "execution_count": null,
   "id": "b2de665d-67e6-4492-ab29-16ea50a4e23f",
   "metadata": {},
   "outputs": [],
   "source": [
    "training_data['minutes_signup_purchase'] = training_data['days_signup_purchase'].dt.total_seconds() / 60"
   ]
  },
  {
   "cell_type": "code",
   "execution_count": null,
   "id": "d99e0e52-c0bc-49d7-b3f8-c1ef314a1ef3",
   "metadata": {
    "scrolled": true
   },
   "outputs": [],
   "source": [
    "training_data['minutes_signup_purchase'].value_counts().sort_index()"
   ]
  },
  {
   "cell_type": "code",
   "execution_count": null,
   "id": "7909be38-5fa9-4536-9e4a-0d415ba4a737",
   "metadata": {},
   "outputs": [],
   "source": [
    "op1 = training_data['minutes_signup_purchase'] <= 20\n",
    "time_delta_chart = alt.Chart(training_data.loc[op1,['minutes_signup_purchase', 'class']]).mark_bar().encode(\n",
    "    alt.X('minutes_signup_purchase:N'),\n",
    "    alt.Y('count()'),\n",
    "    alt.Color('class:N')\n",
    ").properties(\n",
    "    title='Time delta'\n",
    ")\n",
    "time_delta_chart.save('./charts/time_delta_plot.png')\n",
    "Image(filename='./charts/time_delta_plot.png')"
   ]
  },
  {
   "cell_type": "code",
   "execution_count": null,
   "id": "e38ba8ed-ed87-42fe-81ee-94f85274ad12",
   "metadata": {},
   "outputs": [],
   "source": [
    "op1 = training_data['minutes_signup_purchase'] <= 1\n",
    "training_data.loc[op1, 'class'].value_counts()"
   ]
  },
  {
   "cell_type": "markdown",
   "id": "29c94bd6-88d9-42f7-991b-0ed5d6885fbd",
   "metadata": {},
   "source": [
    "Among the records with a 0-day interval, the transactions that a purchase was made within 1 minutes are all fraud.  \n",
    "It is about 53% of all fraud records. this time interval is significant feature for prediction indeed.  "
   ]
  },
  {
   "cell_type": "code",
   "execution_count": null,
   "id": "88177701-7d35-4cfa-85ce-4ba0759c882f",
   "metadata": {},
   "outputs": [],
   "source": [
    "6021 / 11265"
   ]
  },
  {
   "cell_type": "markdown",
   "id": "24f14147-727d-4804-92fe-613296dd10d3",
   "metadata": {},
   "source": [
    "Records of fraud transactions are widely spread."
   ]
  },
  {
   "cell_type": "code",
   "execution_count": null,
   "id": "e2e3c81c-42d6-47bd-aedf-8939618551ff",
   "metadata": {},
   "outputs": [],
   "source": [
    "op1 = training_data['class'] == 1\n",
    "training_data.loc[op1, 'signup_time_dt'].min(), training_data.loc[op1, 'signup_time_dt'].max()"
   ]
  },
  {
   "cell_type": "code",
   "execution_count": null,
   "id": "c7956bfe-3bc7-4dfb-84ea-05210b5de1cf",
   "metadata": {},
   "outputs": [],
   "source": [
    "op1 = training_data['class'] == 1\n",
    "training_data.loc[op1, 'purchase_time_dt'].min(), training_data.loc[op1, 'purchase_time_dt'].max()"
   ]
  },
  {
   "cell_type": "markdown",
   "id": "19b3116f-d71b-4bd2-a36c-9b47ca59f634",
   "metadata": {},
   "source": [
    "## Time\n",
    "Let's check if the records shows fraud occurred during specific time period.  "
   ]
  },
  {
   "cell_type": "code",
   "execution_count": null,
   "id": "66533c1c-79b6-430f-abb0-54ecac517f50",
   "metadata": {},
   "outputs": [],
   "source": [
    "training_data['signup_time_h_dt'] = training_data['signup_time_dt'].dt.hour\n",
    "training_data['purchase_time_h_dt'] = training_data['purchase_time_dt'].dt.hour"
   ]
  },
  {
   "cell_type": "markdown",
   "id": "969fa34d-ac0a-4298-897c-c8f659966c35",
   "metadata": {},
   "source": [
    "There is no specific time period that fraud occurred a lot.  "
   ]
  },
  {
   "cell_type": "code",
   "execution_count": null,
   "id": "f29172d0-050d-4df9-8e55-2b15e7ccd684",
   "metadata": {},
   "outputs": [],
   "source": [
    "op1 = training_data['class'] == 1\n",
    "training_data.loc[op1, ['signup_time_h_dt']].value_counts().sort_index()"
   ]
  },
  {
   "cell_type": "code",
   "execution_count": null,
   "id": "578e50d6-bbcc-49b8-959b-b8ee7505f25e",
   "metadata": {},
   "outputs": [],
   "source": [
    "op1 = training_data['class'] == 1\n",
    "training_data.loc[op1, ['purchase_time_h_dt']].value_counts().sort_index()"
   ]
  },
  {
   "cell_type": "markdown",
   "id": "2a3bf7d8-02d2-40da-9718-76596fc66122",
   "metadata": {},
   "source": [
    "# Purchase values"
   ]
  },
  {
   "cell_type": "markdown",
   "id": "08c66584-f842-46ab-9bc4-f8629e2ace57",
   "metadata": {},
   "source": [
    "Histogram and box plot shows that it is not common for the purchase value to exceeds 80 dollars."
   ]
  },
  {
   "cell_type": "code",
   "execution_count": null,
   "id": "b86f7e95-cf82-4dcf-8c15-8aba76d4ac37",
   "metadata": {},
   "outputs": [],
   "source": [
    "training_data['purchase_value'].hist(figsize=(5,2))"
   ]
  },
  {
   "cell_type": "markdown",
   "id": "07751bce-bfdd-4f4a-8028-a6e5d7ba1e51",
   "metadata": {},
   "source": [
    "To see if such records are related to fraud, I divided records by quantiles.  "
   ]
  },
  {
   "cell_type": "code",
   "execution_count": null,
   "id": "ed59d968-eda9-4471-ac6f-c8995ce5ddcf",
   "metadata": {},
   "outputs": [],
   "source": [
    "training_data[['purchase_value']].describe()"
   ]
  },
  {
   "cell_type": "code",
   "execution_count": null,
   "id": "9588933b-f9b1-4531-b46a-cc4dc7f95c32",
   "metadata": {},
   "outputs": [],
   "source": [
    "training_data[['purchase_value']].boxplot(figsize=(4,4))"
   ]
  },
  {
   "cell_type": "code",
   "execution_count": null,
   "id": "0a64221c-b56f-4598-bfdc-9032af72f2ab",
   "metadata": {},
   "outputs": [],
   "source": [
    "def get_purchase_range(purchase):\n",
    "    if purchase <= 22:\n",
    "        return 'purchase_Q1'\n",
    "    elif purchase in range(23, 34):\n",
    "        return 'purchase_Q2'\n",
    "    elif purchase in range(34, 49):\n",
    "        return 'purchase_Q3'\n",
    "    else:\n",
    "        return 'purchase_upper_Q'\n",
    "    "
   ]
  },
  {
   "cell_type": "code",
   "execution_count": null,
   "id": "821e2827-e0a2-492e-a9e5-94b18601ff82",
   "metadata": {},
   "outputs": [],
   "source": [
    "training_data['purchase_range'] = training_data['purchase_value'].apply(get_purchase_range)"
   ]
  },
  {
   "cell_type": "markdown",
   "id": "5fc96fa7-df66-4072-9955-fc9b8c35ed4e",
   "metadata": {},
   "source": [
    "As we can see in pivot table, each quantile area shows about 9 to 10% of fraud records proportion which is not "
   ]
  },
  {
   "cell_type": "code",
   "execution_count": null,
   "id": "3c84f22b-b909-4242-bc44-84c71574f340",
   "metadata": {},
   "outputs": [],
   "source": [
    "purchase_pivot = pd.pivot_table(training_data, index='purchase_range', values=['user_id'], columns=['class'], aggfunc='count')\n",
    "purchase_pivot.columns = ['0','1']\n",
    "# print(purchase_pivot.sum(axis=1))\n",
    "purchase_pivot['proportion'] = round(purchase_pivot['1'] / purchase_pivot.sum(axis=1), 2)\n",
    "purchase_pivot"
   ]
  },
  {
   "cell_type": "markdown",
   "id": "17b601d3-0d1b-4fbc-ade8-5a1fa5d5f889",
   "metadata": {},
   "source": [
    "# **DEVICE**\n",
    "import feature"
   ]
  },
  {
   "cell_type": "markdown",
   "id": "f9e7bc2d-de99-40a4-858b-d19032fce7ec",
   "metadata": {},
   "source": [
    "Some device is used for multiple users.  \n",
    "In most cases, one device was used less than 3 times.  \n",
    "Therefore, if same device appear more than 3 times, it is suspicious."
   ]
  },
  {
   "cell_type": "code",
   "execution_count": null,
   "id": "eebbd95a-c305-4dfd-8a7e-8aa717d06e7e",
   "metadata": {},
   "outputs": [],
   "source": [
    "training_data['device_id'].value_counts().hist(figsize=(5,2))"
   ]
  },
  {
   "cell_type": "markdown",
   "id": "8f792195-d6c6-4028-9c7f-d2e64e832d77",
   "metadata": {},
   "source": [
    "Counted how many times the device appears in dataset and map the appearance number as 'device_count' column."
   ]
  },
  {
   "cell_type": "code",
   "execution_count": null,
   "id": "663a96db-7b6f-4e53-9a93-4878d6556a6b",
   "metadata": {},
   "outputs": [],
   "source": [
    "device_map = training_data['device_id'].value_counts().to_dict()"
   ]
  },
  {
   "cell_type": "code",
   "execution_count": null,
   "id": "502990b0-658f-4a66-b45c-e09707af38b8",
   "metadata": {},
   "outputs": [],
   "source": [
    "training_data['device_count'] = training_data['device_id'].map(device_map)"
   ]
  },
  {
   "cell_type": "code",
   "execution_count": null,
   "id": "f71b1b85-7c66-4b6a-b711-72de7f06c558",
   "metadata": {},
   "outputs": [],
   "source": [
    "op1 = training_data['device_count'] >= 4\n",
    "training_data.loc[op1, 'class'].value_counts()"
   ]
  },
  {
   "cell_type": "markdown",
   "id": "760f6b85-4b23-4886-a423-12a74b928e96",
   "metadata": {},
   "source": [
    "The transaction records that are made by devices used more than 3 times are highly fraud records.  \n",
    "The proportion of fraud records in each devices is more than 80%."
   ]
  },
  {
   "cell_type": "code",
   "execution_count": null,
   "id": "edff0da6-6a1e-4817-a307-ed25cdc8f2c0",
   "metadata": {},
   "outputs": [],
   "source": [
    "device_count_chart = alt.Chart(training_data[['device_count','source', 'class']]).mark_bar().encode(\n",
    "    alt.X('device_count'),\n",
    "    alt.Y('count()').sort('-x').stack(\"normalize\"),\n",
    "    alt.Color('class:N')\n",
    ").properties(\n",
    "    title='Device count'\n",
    ")\n",
    "device_count_chart.save('./charts/device_count_plot.png')\n",
    "Image(filename='./charts/device_count_plot.png')"
   ]
  },
  {
   "cell_type": "markdown",
   "id": "a681a6f2-d646-4da1-9a4d-08ac928253a7",
   "metadata": {},
   "source": [
    "# Source"
   ]
  },
  {
   "cell_type": "markdown",
   "id": "effa5d81-7ca0-470b-9ee8-571d219b150d",
   "metadata": {},
   "source": [
    "There is no significant difference between source groups."
   ]
  },
  {
   "cell_type": "code",
   "execution_count": null,
   "id": "0770a25a-7aaa-4b32-9bef-830f54606538",
   "metadata": {},
   "outputs": [],
   "source": [
    "source_pivot = pd.pivot_table(training_data, index='source', values=['user_id'], columns=['class'], aggfunc='count').loc[['SEO', 'Ads', 'Direct']]\n",
    "source_pivot.columns = ['0','1']\n",
    "# print(purchase_pivot.sum(axis=1))\n",
    "source_pivot['proportion'] = round(source_pivot['1'] / source_pivot.sum(axis=1), 2)\n",
    "source_pivot"
   ]
  },
  {
   "cell_type": "code",
   "execution_count": null,
   "id": "ee6292e2-2832-4839-bc39-77cecb898e5f",
   "metadata": {},
   "outputs": [],
   "source": [
    "source_chart = alt.Chart(training_data[['purchase_value','source', 'class']]).mark_bar().encode(\n",
    "    alt.X('count()').stack('normalize'),\n",
    "    alt.Y('source:N').sort('-x'),\n",
    "    alt.Color('class:N')\n",
    ")\n",
    "source_chart.save('./charts/source_chart.png')\n",
    "Image(filename='./charts/source_chart.png')"
   ]
  },
  {
   "cell_type": "markdown",
   "id": "cb147ee3-3a0c-4a96-a341-18def3f67a9a",
   "metadata": {},
   "source": [
    "I checked if there are some difference by time for each source group.  \n",
    "But I could not find meaningful difference by time.  \n",
    "So I made time range as below.  \n",
    "- 6 to 11 : morning\n",
    "- 12 to 17 : afternoon\n",
    "- 18 to 23 : evening\n",
    "- 24 to 5 : night"
   ]
  },
  {
   "cell_type": "code",
   "execution_count": null,
   "id": "1e6d1cff-2987-4afe-8f9b-7d8643d22926",
   "metadata": {},
   "outputs": [],
   "source": [
    "def set_time_group(time):\n",
    "    if time in range(6, 12):\n",
    "        return 'morning'\n",
    "    elif time in range(12, 18):\n",
    "        return 'afternoon'\n",
    "    elif time in range(18, 24):\n",
    "        return 'evening'\n",
    "    else:\n",
    "        return 'night'"
   ]
  },
  {
   "cell_type": "code",
   "execution_count": null,
   "id": "9c7d965e-5896-41ff-80e1-eb005c0d8711",
   "metadata": {},
   "outputs": [],
   "source": [
    "training_data['sign_time_range'] = training_data['signup_time_h_dt'].apply(set_time_group)\n",
    "training_data['purchase_time_range'] = training_data['purchase_time_h_dt'].apply(set_time_group)"
   ]
  },
  {
   "cell_type": "code",
   "execution_count": null,
   "id": "e05052cd-57f6-4dca-aa98-61dc1e841201",
   "metadata": {},
   "outputs": [],
   "source": [
    "purchase_chart = alt.Chart(training_data[['source', 'purchase_time_h_dt', 'class']]).mark_bar().encode(\n",
    "                alt.X('purchase_time_h_dt'),\n",
    "                alt.Y('count()').stack('normalize'),\n",
    "                alt.Color('class:N')\n",
    "            ).transform_filter(\n",
    "                alt.FieldEqualPredicate(field='source', equal='SEO')\n",
    "            )\n",
    "\n",
    "signup_chart = alt.Chart(training_data[['source', 'signup_time_h_dt', 'class']]).mark_bar().encode(\n",
    "                alt.X('signup_time_h_dt'),\n",
    "                alt.Y('count()').stack('normalize'),\n",
    "                alt.Color('class:N')\n",
    "            ).transform_filter(\n",
    "                alt.FieldEqualPredicate(field='source', equal='SEO')\n",
    "            )\n",
    "\n",
    "seo_time_chart = purchase_chart | signup_chart\n",
    "seo_time_chart.save('./charts/seo_time_chart.png')\n",
    "Image(filename='./charts/seo_time_chart.png')"
   ]
  },
  {
   "cell_type": "code",
   "execution_count": null,
   "id": "4d578e8c-2155-4964-9605-2205b15924bc",
   "metadata": {},
   "outputs": [],
   "source": [
    "purchase_chart = alt.Chart(training_data[['source', 'purchase_time_range', 'class']]).mark_bar().encode(\n",
    "                alt.X('purchase_time_range'),\n",
    "                alt.Y('count()').stack('normalize'),\n",
    "                alt.Color('class:N')\n",
    "            ).transform_filter(\n",
    "                alt.FieldEqualPredicate(field='source', equal='SEO')\n",
    "            )\n",
    "\n",
    "signup_chart = alt.Chart(training_data[['source', 'sign_time_range', 'class']]).mark_bar().encode(\n",
    "                alt.X('sign_time_range'),\n",
    "                alt.Y('count()').stack('normalize'),\n",
    "                alt.Color('class:N')\n",
    "            ).transform_filter(\n",
    "                alt.FieldEqualPredicate(field='source', equal='SEO')\n",
    "            )\n",
    "\n",
    "seo_time_range_chart = purchase_chart | signup_chart\n",
    "seo_time_range_chart.save('./charts/seo_time_range_chart.png')\n",
    "Image('./charts/seo_time_range_chart.png')"
   ]
  },
  {
   "cell_type": "code",
   "execution_count": null,
   "id": "fef33d27-c4b0-4666-b8bc-f07fc404d8d3",
   "metadata": {},
   "outputs": [],
   "source": [
    "purchase_chart = alt.Chart(training_data[['source', 'purchase_time_h_dt', 'class']]).mark_bar().encode(\n",
    "                alt.X('purchase_time_h_dt'),\n",
    "                alt.Y('count()').stack('normalize'),\n",
    "                alt.Color('class:N')\n",
    "            ).transform_filter(\n",
    "                alt.FieldEqualPredicate(field='source', equal='Ads')\n",
    "            )\n",
    "\n",
    "signup_chart = alt.Chart(training_data[['source', 'signup_time_h_dt', 'class']]).mark_bar().encode(\n",
    "                alt.X('signup_time_h_dt'),\n",
    "                alt.Y('count()').stack('normalize'),\n",
    "                alt.Color('class:N')\n",
    "            ).transform_filter(\n",
    "                alt.FieldEqualPredicate(field='source', equal='Ads')\n",
    "            )\n",
    "\n",
    "ads_time_chart = purchase_chart | signup_chart\n",
    "ads_time_chart.save('./charts/ads_time_chart.png')\n",
    "Image('./charts/ads_time_chart.png')"
   ]
  },
  {
   "cell_type": "code",
   "execution_count": null,
   "id": "157b418c-560b-4fbb-9696-ee5e13aab899",
   "metadata": {},
   "outputs": [],
   "source": [
    "purchase_chart = alt.Chart(training_data[['source', 'purchase_time_range', 'class']]).mark_bar().encode(\n",
    "                alt.X('purchase_time_range'),\n",
    "                alt.Y('count()').stack('normalize'),\n",
    "                alt.Color('class:N')\n",
    "            ).transform_filter(\n",
    "                alt.FieldEqualPredicate(field='source', equal='Ads')\n",
    "            )\n",
    "\n",
    "signup_chart = alt.Chart(training_data[['source', 'sign_time_range', 'class']]).mark_bar().encode(\n",
    "                alt.X('sign_time_range'),\n",
    "                alt.Y('count()').stack('normalize'),\n",
    "                alt.Color('class:N')\n",
    "            ).transform_filter(\n",
    "                alt.FieldEqualPredicate(field='source', equal='Ads')\n",
    "            )\n",
    "\n",
    "ads_time_range_chart = purchase_chart | signup_chart\n",
    "ads_time_range_chart.save('./charts/ads_time_range_chart.png')\n",
    "Image('./charts/ads_time_range_chart.png')"
   ]
  },
  {
   "cell_type": "code",
   "execution_count": null,
   "id": "751eb8fd-e29b-458d-95b8-32afab3bd7f7",
   "metadata": {},
   "outputs": [],
   "source": [
    "purchase_chart = alt.Chart(training_data[['source', 'purchase_time_h_dt', 'class']]).mark_bar().encode(\n",
    "                alt.X('purchase_time_h_dt'),\n",
    "                alt.Y('count()').stack('normalize'),\n",
    "                alt.Color('class:N')\n",
    "            ).transform_filter(\n",
    "                alt.FieldEqualPredicate(field='source', equal='Direct')\n",
    "            )\n",
    "\n",
    "signup_chart = alt.Chart(training_data[['source', 'signup_time_h_dt', 'class']]).mark_bar().encode(\n",
    "                alt.X('signup_time_h_dt'),\n",
    "                alt.Y('count()').stack('normalize'),\n",
    "                alt.Color('class:N')\n",
    "            ).transform_filter(\n",
    "                alt.FieldEqualPredicate(field='source', equal='Direct')\n",
    "            )\n",
    "\n",
    "direct_time_chart = purchase_chart | signup_chart\n",
    "direct_time_chart.save('./charts/direct_time_chart.png')\n",
    "Image('./charts/direct_time_chart.png')"
   ]
  },
  {
   "cell_type": "code",
   "execution_count": null,
   "id": "80c9d611-24dc-42ee-b422-6e0e8e9e8552",
   "metadata": {},
   "outputs": [],
   "source": [
    "purchase_chart = alt.Chart(training_data[['source', 'purchase_time_range', 'class']]).mark_bar().encode(\n",
    "                alt.X('purchase_time_range'),\n",
    "                alt.Y('count()').stack('normalize'),\n",
    "                alt.Color('class:N')\n",
    "            ).transform_filter(\n",
    "                alt.FieldEqualPredicate(field='source', equal='Direct')\n",
    "            )\n",
    "\n",
    "signup_chart = alt.Chart(training_data[['source', 'sign_time_range', 'class']]).mark_bar().encode(\n",
    "                alt.X('sign_time_range'),\n",
    "                alt.Y('count()').stack('normalize'),\n",
    "                alt.Color('class:N')\n",
    "            ).transform_filter(\n",
    "                alt.FieldEqualPredicate(field='source', equal='Direct')\n",
    "            )\n",
    "\n",
    "direct_time_range_chart = purchase_chart | signup_chart\n",
    "direct_time_range_chart.save('./charts/direct_time_range_chart.png')\n",
    "Image('./charts/direct_time_range_chart.png')"
   ]
  },
  {
   "cell_type": "markdown",
   "id": "9839ba5b-f07e-4b4e-bb1a-8ee251a308fe",
   "metadata": {},
   "source": [
    "# Browser"
   ]
  },
  {
   "cell_type": "code",
   "execution_count": null,
   "id": "fc7f35bc-98d6-45b9-bbd3-8a96a49d8401",
   "metadata": {},
   "outputs": [],
   "source": [
    "browser_pivot = pd.pivot_table(training_data, index='browser', values=['user_id'], columns=['class'], aggfunc='count').loc[['Chrome','IE', 'Safari','FireFox','Opera']]\n",
    "browser_pivot.columns = ['0','1']\n",
    "# print(purchase_pivot.sum(axis=1))\n",
    "browser_pivot['proportion'] = round(browser_pivot['1'] / browser_pivot.sum(axis=1), 2)\n",
    "browser_pivot"
   ]
  },
  {
   "cell_type": "code",
   "execution_count": null,
   "id": "abcf8e23-daca-4e91-864e-514a429186a1",
   "metadata": {},
   "outputs": [],
   "source": [
    "browser_chart = alt.Chart(training_data[['purchase_value', 'browser', 'class']]).mark_bar().encode(\n",
    "    alt.X('count()').stack('normalize'),\n",
    "    alt.Y('browser:N').sort('-x'),\n",
    "    alt.Color('class:N')\n",
    ")\n",
    "browser_chart.save('./charts/browser_chart.png')\n",
    "Image('./charts/browser_chart.png')"
   ]
  },
  {
   "cell_type": "markdown",
   "id": "2402f30a-340e-437a-a915-93e598842f85",
   "metadata": {},
   "source": [
    "# SEX"
   ]
  },
  {
   "cell_type": "code",
   "execution_count": null,
   "id": "68e440bc-9036-4054-bd83-4edd43edb2f1",
   "metadata": {},
   "outputs": [],
   "source": [
    "sex_pivot = pd.pivot_table(training_data, index='sex', values=['user_id'], columns=['class'], aggfunc='count').loc[['M','F']]\n",
    "sex_pivot.columns = ['0','1']\n",
    "# print(purchase_pivot.sum(axis=1))\n",
    "sex_pivot['proportion'] = round(sex_pivot['1'] / sex_pivot.sum(axis=1), 2)\n",
    "sex_pivot"
   ]
  },
  {
   "cell_type": "code",
   "execution_count": null,
   "id": "ec3e46df-0163-4533-a3ba-fd022f34d4ef",
   "metadata": {},
   "outputs": [],
   "source": [
    "sex_chart = alt.Chart(training_data[['purchase_value','sex', 'class']]).mark_bar().encode(\n",
    "    alt.X('count()').stack('normalize'),\n",
    "    alt.Y('sex:N').sort('-x'),\n",
    "    alt.Color('class:N')\n",
    ")\n",
    "sex_chart.save('./charts/sex_chart.png')\n",
    "Image('./charts/sex_chart.png')"
   ]
  },
  {
   "cell_type": "markdown",
   "id": "2157db33-960e-406c-9138-edee06fceea2",
   "metadata": {},
   "source": [
    "# AGE"
   ]
  },
  {
   "cell_type": "markdown",
   "id": "7aa48f0f-6cc9-4881-9e8c-60c73da0ddad",
   "metadata": {},
   "source": [
    "When look into proportion of fraud transaction by age group, some age group shows higher rate than others.  \n",
    "However, It is not meaningful to separate transaction by each age.  \n",
    "For example, 63 year old transaction shows high proportion, but 62 or 64 has low proportion.  \n",
    "It is hard to think that 63 year old and 62 year old is that different.  \n",
    "And transaction record of 63 year old is not that many.  \n",
    "It would be better to set some age range."
   ]
  },
  {
   "cell_type": "code",
   "execution_count": null,
   "id": "8912d505-8701-4fcb-86b5-087e2ea5c369",
   "metadata": {},
   "outputs": [],
   "source": [
    "age_pivot = pd.pivot_table(training_data, index='age', values=['user_id'], columns=['class'], aggfunc='count')\n",
    "age_pivot.columns = ['0','1']\n",
    "# print(purchase_pivot.sum(axis=1))\n",
    "age_pivot['proportion'] = round(age_pivot['1'] / age_pivot.sum(axis=1), 2)\n",
    "age_pivot.sort_values(by='proportion')"
   ]
  },
  {
   "cell_type": "code",
   "execution_count": null,
   "id": "ea57ecb2-fc9d-4db8-8538-7b040ea0680e",
   "metadata": {},
   "outputs": [],
   "source": [
    "age_chart = alt.Chart(training_data[['purchase_value','age', 'class']]).mark_bar().encode(\n",
    "    alt.X('count()').stack('normalize'),\n",
    "    alt.Y('age:N', axis=alt.Axis(grid=True)),\n",
    "    alt.Color('class:N')\n",
    ")\n",
    "age_chart.save('./charts/age_chart.png')\n",
    "Image('./charts/age_chart.png')"
   ]
  },
  {
   "cell_type": "markdown",
   "id": "2b1b15c1-4207-4eee-bfcf-9555e312c85b",
   "metadata": {},
   "source": [
    "I divided the transactions into several age groups: 10 years interval.  \n",
    "It appears that in age group, there is no significant difference.  "
   ]
  },
  {
   "cell_type": "code",
   "execution_count": null,
   "id": "9070ad41-194a-4239-b420-8c009c3440ca",
   "metadata": {},
   "outputs": [],
   "source": [
    "def get_age_group(age):\n",
    "    if age in range(18, 28):\n",
    "        return 'age 1'\n",
    "    elif age in range(28, 38):\n",
    "        return 'age 2'\n",
    "    elif age in range(38, 48):\n",
    "        return 'age 3'\n",
    "    elif age in range(48, 58):\n",
    "        return 'age 4'\n",
    "    elif age in range(58, 67):\n",
    "        return 'age 5'\n",
    "    else:\n",
    "        return 'age 6'"
   ]
  },
  {
   "cell_type": "code",
   "execution_count": null,
   "id": "e0fc91b5-2751-471a-b685-0031950cf187",
   "metadata": {},
   "outputs": [],
   "source": [
    "training_data['age_group'] = training_data['age'].apply(get_age_group)"
   ]
  },
  {
   "cell_type": "code",
   "execution_count": null,
   "id": "3c072464-d5b0-496a-b540-00f54dbf92ab",
   "metadata": {},
   "outputs": [],
   "source": [
    "age_group_pivot = pd.pivot_table(training_data, index='age_group', values=['user_id'], columns=['class'], aggfunc='count')\n",
    "age_group_pivot.columns = ['0','1']\n",
    "# print(purchase_pivot.sum(axis=1))\n",
    "age_group_pivot['proportion'] = round(age_group_pivot['1'] / age_group_pivot.sum(axis=1), 2)\n",
    "age_group_pivot"
   ]
  },
  {
   "cell_type": "code",
   "execution_count": null,
   "id": "9739cfbd-0df7-406c-8931-917f5ccd570f",
   "metadata": {},
   "outputs": [],
   "source": [
    "age_group_chart = alt.Chart(training_data[['purchase_value','age_group', 'class']]).mark_bar().encode(\n",
    "    alt.X('count()').stack('normalize'),\n",
    "    alt.Y('age_group:N', axis=alt.Axis(grid=True)),\n",
    "    alt.Color('class:N')\n",
    ")\n",
    "age_group_chart.save('./charts/age_group_chart.png')\n",
    "Image('./charts/age_group_chart.png')"
   ]
  },
  {
   "cell_type": "code",
   "execution_count": null,
   "id": "7f0c9563-3f98-4b47-86a8-007f6162b8d3",
   "metadata": {},
   "outputs": [],
   "source": [
    "def get_age_group2(age):\n",
    "    if age in range(18, 23):\n",
    "        return 'age 01'\n",
    "    elif age in range(23, 28):\n",
    "        return 'age 02'\n",
    "    elif age in range(28, 33):\n",
    "        return 'age 03'\n",
    "    elif age in range(33, 38):\n",
    "        return 'age 04'\n",
    "    elif age in range(38, 43):\n",
    "        return 'age 05'\n",
    "    elif age in range(43, 49):\n",
    "        return 'age 06'\n",
    "    elif age in range(49, 54):\n",
    "        return 'age 07'\n",
    "    elif age in range(54, 59):\n",
    "        return 'age 08'\n",
    "    elif age in range(59, 64):\n",
    "        return 'age 09'\n",
    "    elif age in range(64, 69):\n",
    "        return 'age 10'\n",
    "    else:\n",
    "        return 'age 11'"
   ]
  },
  {
   "cell_type": "code",
   "execution_count": null,
   "id": "f7971cef-162f-4c0d-bfed-faaf48fcff3b",
   "metadata": {},
   "outputs": [],
   "source": [
    "training_data['age_group2'] = training_data['age'].apply(get_age_group2)"
   ]
  },
  {
   "cell_type": "code",
   "execution_count": null,
   "id": "89b74675-356c-474c-9e90-65b5d0d43869",
   "metadata": {},
   "outputs": [],
   "source": [
    "age_group_pivot2 = pd.pivot_table(training_data, index='age_group2', values=['user_id'], columns=['class'], aggfunc='count')\n",
    "age_group_pivot2.columns = ['0','1']\n",
    "# print(purchase_pivot.sum(axis=1))\n",
    "age_group_pivot2['proportion'] = round(age_group_pivot2['1'] / age_group_pivot2.sum(axis=1), 2)\n",
    "age_group_pivot2.sort_index()"
   ]
  },
  {
   "cell_type": "markdown",
   "id": "de95a621-860a-4023-a7e8-8a1fb378ae31",
   "metadata": {},
   "source": [
    "# **Country**\n",
    "importand feature  \n",
    "proportion of fraud records shows difference by country group."
   ]
  },
  {
   "cell_type": "code",
   "execution_count": null,
   "id": "acfccfff-b76e-43f2-bd85-7bb99185e199",
   "metadata": {},
   "outputs": [],
   "source": [
    "17418 / 120000"
   ]
  },
  {
   "cell_type": "markdown",
   "id": "094989db-91e6-43a2-8093-93de02c12070",
   "metadata": {},
   "source": [
    "Most of the transaction occurred at United States.  \n",
    "And about 14.5% of the tranasaction is not determined the country by ip bound."
   ]
  },
  {
   "cell_type": "code",
   "execution_count": null,
   "id": "299cbbf8-7c1f-431b-bc83-4c15a7dfec1b",
   "metadata": {},
   "outputs": [],
   "source": [
    "training_data['ip_country'].value_counts()"
   ]
  },
  {
   "cell_type": "code",
   "execution_count": null,
   "id": "b1e7930a-a73c-4b04-8d74-0e03f85f7572",
   "metadata": {},
   "outputs": [],
   "source": [
    "country_proportion = training_data[training_data['class']==1].groupby('ip_country').size() / training_data.groupby('ip_country').size()\n",
    "country_proportion = country_proportion.fillna(0).reset_index(name='proportion_country')"
   ]
  },
  {
   "cell_type": "code",
   "execution_count": null,
   "id": "3aedac4b-690a-4bd7-b92b-4f6ec9dc7f67",
   "metadata": {},
   "outputs": [],
   "source": [
    "country_proportion.sort_values(by='proportion_country', ascending=False)"
   ]
  },
  {
   "cell_type": "code",
   "execution_count": null,
   "id": "aa6407f0-e2ad-4cdb-bdde-98f9a67db1c8",
   "metadata": {},
   "outputs": [],
   "source": [
    "sorted_data = pd.merge(training_data, country_proportion, on='ip_country', how='left')"
   ]
  },
  {
   "cell_type": "code",
   "execution_count": null,
   "id": "84151f80-8298-4eab-8af8-c7f6aeb29ac5",
   "metadata": {},
   "outputs": [],
   "source": [
    "sorted_data.head()"
   ]
  },
  {
   "cell_type": "code",
   "execution_count": null,
   "id": "80d75f7e-5a2e-4c33-b746-00c8808950be",
   "metadata": {},
   "outputs": [],
   "source": [
    "age_chart = alt.Chart(sorted_data[['ip_country', 'class', 'proportion_country']]).mark_bar().encode(\n",
    "    alt.X('count()').stack('normalize'),\n",
    "    alt.Y('ip_country:N', axis=alt.Axis(grid=True), sort=alt.EncodingSortField(field='proportion_country', order='descending')),\n",
    "    alt.Color('class:N')\n",
    ")\n",
    "age_chart.save('./charts/ip_country.png')\n",
    "Image('./charts/ip_country.png')"
   ]
  },
  {
   "cell_type": "markdown",
   "id": "b85292d0-d9ae-4dc1-acaf-6c36b48f79a0",
   "metadata": {},
   "source": [
    "### Country & purchasement value"
   ]
  },
  {
   "cell_type": "markdown",
   "id": "9afbf0f5-ed37-46f3-97e1-01b3c74d17a5",
   "metadata": {},
   "source": [
    "Fraud Purchase value distribution for each country:  \n",
    "If we plot mean of purchase value of fraud and non-fraud, there might be difference between countries.  \n",
    "Interestingly, some country shows mean of fraud purchase amount is lower than mean of non fraud purchasement amount.  \n",
    "In either way, there is some difference.  "
   ]
  },
  {
   "cell_type": "code",
   "execution_count": null,
   "id": "47e45e23-62de-42ea-91c8-a79224501b2a",
   "metadata": {},
   "outputs": [],
   "source": [
    "training_data.columns"
   ]
  },
  {
   "cell_type": "code",
   "execution_count": null,
   "id": "d8bcba05-5020-4a8f-a46e-94148070a270",
   "metadata": {},
   "outputs": [],
   "source": [
    "pd.pivot_table(training_data, index=['ip_country'], values=['purchase_value'], columns=['class'], aggfunc='mean').sort_values(by=('purchase_value',1), ascending=False)"
   ]
  },
  {
   "cell_type": "code",
   "execution_count": null,
   "id": "ddc74dd6-c6cb-4e14-827d-80275967971a",
   "metadata": {},
   "outputs": [],
   "source": [
    "age_chart = alt.Chart(sorted_data[['ip_country', 'class', 'purchase_value']]).mark_bar().encode(\n",
    "    alt.X('mean(purchase_value):Q'),\n",
    "    alt.Y('ip_country:N'),\n",
    "    alt.Color('class:N')\n",
    ")\n",
    "age_chart.save('./charts/country_fraud_purchase_amount.png')\n",
    "Image('./charts/country_fraud_purchase_amount.png')"
   ]
  },
  {
   "cell_type": "markdown",
   "id": "5ad066a9-13a7-449d-952a-6602d427bcef",
   "metadata": {},
   "source": [
    "### Country & Source:\n",
    "Source data can be useful when it combines with country data.  \n",
    "For example, New Zealand shows the proportion of fraud records as 21%.  \n",
    "But if source of the transaction is Direct, proportion decrease to 5%.  "
   ]
  },
  {
   "cell_type": "code",
   "execution_count": null,
   "id": "8131d410-cc3d-4aff-8155-d9ba68c4f371",
   "metadata": {},
   "outputs": [],
   "source": [
    "country_source_pivot = pd.pivot_table(training_data, index=['ip_country','source'], values=['user_id'], columns=['class'], aggfunc='count')\n",
    "country_source_pivot = country_source_pivot.fillna(0)\n",
    "country_source_pivot.columns = ['0','1']\n",
    "# print(purchase_pivot.sum(axis=1))\n",
    "country_source_pivot['proportion'] = round(country_source_pivot['1'] / country_source_pivot.sum(axis=1), 2)\n",
    "country_source_pivot"
   ]
  },
  {
   "cell_type": "markdown",
   "id": "a5e93c8f-cd6a-4f9a-bd92-bb231eff2149",
   "metadata": {},
   "source": [
    "### Country & time range\n",
    "When look into some country that has high proportion of fraud transaction records,  \n",
    "the proportion of fraud transaction is different by time.  "
   ]
  },
  {
   "cell_type": "code",
   "execution_count": null,
   "id": "6ca81693-70bf-4ad5-aa54-de390303c6d5",
   "metadata": {},
   "outputs": [],
   "source": [
    "purchase_chart = alt.Chart(training_data[['ip_country', 'purchase_time_range', 'class']]).mark_bar().encode(\n",
    "                alt.X('purchase_time_range'),\n",
    "                alt.Y('count()').stack('normalize'),\n",
    "                alt.Color('class:N')\n",
    "            ).transform_filter(\n",
    "                alt.FieldEqualPredicate(field='ip_country', equal='New Zealand')\n",
    "            )\n",
    "\n",
    "signup_chart = alt.Chart(training_data[['ip_country', 'sign_time_range', 'class']]).mark_bar().encode(\n",
    "                alt.X('sign_time_range'),\n",
    "                alt.Y('count()').stack('normalize'),\n",
    "                alt.Color('class:N')\n",
    "            ).transform_filter(\n",
    "                alt.FieldEqualPredicate(field='ip_country', equal='New Zealand')\n",
    "            )\n",
    "\n",
    "direct_time_range_chart = purchase_chart | signup_chart\n",
    "direct_time_range_chart.save('./charts/Newzealand_time_range_chart.png')\n",
    "Image('./charts/Newzealand_time_range_chart.png')"
   ]
  },
  {
   "cell_type": "markdown",
   "id": "645af6c9-32c6-49c5-b641-719d255e167d",
   "metadata": {},
   "source": [
    "But in case the country has low fraud traction proportion, it seems time is nothing to do with fraud transaction.  "
   ]
  },
  {
   "cell_type": "code",
   "execution_count": null,
   "id": "eabb49a3-5f62-4fb2-98b7-bef136ab65df",
   "metadata": {},
   "outputs": [],
   "source": [
    "purchase_chart = alt.Chart(training_data[['ip_country', 'purchase_time_range', 'class']]).mark_bar().encode(\n",
    "                alt.X('purchase_time_range'),\n",
    "                alt.Y('count()').stack('normalize'),\n",
    "                alt.Color('class:N')\n",
    "            ).transform_filter(\n",
    "                alt.FieldEqualPredicate(field='ip_country', equal='United States')\n",
    "            )\n",
    "\n",
    "signup_chart = alt.Chart(training_data[['ip_country', 'sign_time_range', 'class']]).mark_bar().encode(\n",
    "                alt.X('sign_time_range'),\n",
    "                alt.Y('count()').stack('normalize'),\n",
    "                alt.Color('class:N')\n",
    "            ).transform_filter(\n",
    "                alt.FieldEqualPredicate(field='ip_country', equal='United States')\n",
    "            )\n",
    "\n",
    "direct_time_range_chart = purchase_chart | signup_chart\n",
    "direct_time_range_chart.save('./charts/UnitedStates_time_range_chart.png')\n",
    "Image('./charts/UnitedStates_time_range_chart.png')"
   ]
  },
  {
   "cell_type": "markdown",
   "id": "ab491910-260c-45f8-bf50-b8a5f77aba75",
   "metadata": {},
   "source": [
    "# Compare value of False positive and False negative\n",
    "False negative: If model predict fraud as normal  \n",
    "False positive: If model predict normal as fraud"
   ]
  },
  {
   "cell_type": "code",
   "execution_count": null,
   "id": "f8fdffd8-4716-4214-863d-47d4e34d423e",
   "metadata": {},
   "outputs": [],
   "source": [
    "op1 = training_data['class'] == 1\n",
    "training_data.loc[op1, ['purchase_value']].mean()"
   ]
  },
  {
   "cell_type": "markdown",
   "id": "b670f7e9-96b6-4f02-8686-1b7bab2b54e7",
   "metadata": {},
   "source": [
    "If False negative occurr Electronica will lose approximatelly \\\\$37 per record.  \n",
    "On the other hand, If False positive occurr Electronica will lose \\\\$8 per record.  \n",
    "Therefore model should prevent False negative more than False positive.  \n",
    "=> Recall score should be high.  "
   ]
  },
  {
   "cell_type": "markdown",
   "id": "48dba7f2-676c-44f2-8c9d-8422070d638a",
   "metadata": {},
   "source": [
    "# Conclusion"
   ]
  },
  {
   "cell_type": "markdown",
   "id": "9641eb4d-ed3c-4c13-8ba7-daabb814cd7d",
   "metadata": {},
   "source": [
    "Through the EDA, I concluded that below features would be helpful to predict fraud records.\n",
    "- Time interval between signup and the first purchasement in minutes.\n",
    "- Device_id frequancy: the number that the device id appeared in dataset.\n",
    "- Country: determined by numeric ip address boundary.\n",
    "\n",
    "Important metric to evaluate the model: Recall score"
   ]
  },
  {
   "cell_type": "code",
   "execution_count": null,
   "id": "7092e17d-8fef-4bc5-92b5-72ea49931464",
   "metadata": {},
   "outputs": [],
   "source": []
  }
 ],
 "metadata": {
  "kernelspec": {
   "display_name": "Python 3 (ipykernel)",
   "language": "python",
   "name": "python3"
  },
  "language_info": {
   "codemirror_mode": {
    "name": "ipython",
    "version": 3
   },
   "file_extension": ".py",
   "mimetype": "text/x-python",
   "name": "python",
   "nbconvert_exporter": "python",
   "pygments_lexer": "ipython3",
   "version": "3.11.4"
  }
 },
 "nbformat": 4,
 "nbformat_minor": 5
}
