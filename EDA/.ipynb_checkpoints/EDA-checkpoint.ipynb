{
 "cells": [
  {
   "cell_type": "code",
   "execution_count": 73,
   "id": "5407e0ee-1766-4dd3-87fe-7ea7e80f199b",
   "metadata": {},
   "outputs": [],
   "source": [
    "import pandas as pd\n",
    "from pathlib import Path\n",
    "from datetime import timedelta\n",
    "import altair as alt"
   ]
  },
  {
   "cell_type": "code",
   "execution_count": 79,
   "id": "d323c0c5-0ef5-4fd1-86eb-c67a68471c77",
   "metadata": {},
   "outputs": [
    {
     "data": {
      "text/plain": [
       "DataTransformerRegistry.enable('default')"
      ]
     },
     "execution_count": 79,
     "metadata": {},
     "output_type": "execute_result"
    }
   ],
   "source": [
    "alt.data_transformers.disable_max_rows()"
   ]
  },
  {
   "cell_type": "code",
   "execution_count": 3,
   "id": "9428f041-304c-4e01-8340-1cbb756b71c3",
   "metadata": {},
   "outputs": [],
   "source": [
    "data_path = Path(\"../Dataset/\")"
   ]
  },
  {
   "cell_type": "code",
   "execution_count": 19,
   "id": "241f4d4a-70cd-4bf0-bb7f-b82ca4583616",
   "metadata": {},
   "outputs": [],
   "source": [
    "training_data = pd.read_csv(data_path/\"Candidate_tech_evaluation_candidate_copy_data science_fraud.csv\").drop(columns=['Unnamed: 0'])"
   ]
  },
  {
   "cell_type": "code",
   "execution_count": 20,
   "id": "a5b2b9d8-aaa3-4fa7-b976-8ebd36e36592",
   "metadata": {},
   "outputs": [
    {
     "data": {
      "text/html": [
       "<div>\n",
       "<style scoped>\n",
       "    .dataframe tbody tr th:only-of-type {\n",
       "        vertical-align: middle;\n",
       "    }\n",
       "\n",
       "    .dataframe tbody tr th {\n",
       "        vertical-align: top;\n",
       "    }\n",
       "\n",
       "    .dataframe thead th {\n",
       "        text-align: right;\n",
       "    }\n",
       "</style>\n",
       "<table border=\"1\" class=\"dataframe\">\n",
       "  <thead>\n",
       "    <tr style=\"text-align: right;\">\n",
       "      <th></th>\n",
       "      <th>user_id</th>\n",
       "      <th>signup_time</th>\n",
       "      <th>purchase_time</th>\n",
       "      <th>purchase_value</th>\n",
       "      <th>device_id</th>\n",
       "      <th>source</th>\n",
       "      <th>browser</th>\n",
       "      <th>sex</th>\n",
       "      <th>age</th>\n",
       "      <th>ip_address</th>\n",
       "      <th>class</th>\n",
       "    </tr>\n",
       "  </thead>\n",
       "  <tbody>\n",
       "    <tr>\n",
       "      <th>0</th>\n",
       "      <td>285108</td>\n",
       "      <td>7/15/2015 4:36</td>\n",
       "      <td>9/10/2015 14:17</td>\n",
       "      <td>31</td>\n",
       "      <td>HZAKVUFTDOSFD</td>\n",
       "      <td>Direct</td>\n",
       "      <td>Chrome</td>\n",
       "      <td>M</td>\n",
       "      <td>49</td>\n",
       "      <td>2.818400e+09</td>\n",
       "      <td>0</td>\n",
       "    </tr>\n",
       "    <tr>\n",
       "      <th>1</th>\n",
       "      <td>131009</td>\n",
       "      <td>1/24/2015 12:29</td>\n",
       "      <td>4/13/2015 4:53</td>\n",
       "      <td>31</td>\n",
       "      <td>XGQAJSOUJIZCC</td>\n",
       "      <td>SEO</td>\n",
       "      <td>IE</td>\n",
       "      <td>F</td>\n",
       "      <td>21</td>\n",
       "      <td>3.251268e+09</td>\n",
       "      <td>0</td>\n",
       "    </tr>\n",
       "    <tr>\n",
       "      <th>2</th>\n",
       "      <td>328855</td>\n",
       "      <td>3/11/2015 0:54</td>\n",
       "      <td>4/5/2015 12:23</td>\n",
       "      <td>16</td>\n",
       "      <td>VCCTAYDCWKZIY</td>\n",
       "      <td>Direct</td>\n",
       "      <td>IE</td>\n",
       "      <td>M</td>\n",
       "      <td>26</td>\n",
       "      <td>2.727760e+09</td>\n",
       "      <td>0</td>\n",
       "    </tr>\n",
       "    <tr>\n",
       "      <th>3</th>\n",
       "      <td>229053</td>\n",
       "      <td>1/7/2015 13:19</td>\n",
       "      <td>1/9/2015 10:12</td>\n",
       "      <td>29</td>\n",
       "      <td>MFFIHYNXCJLEY</td>\n",
       "      <td>SEO</td>\n",
       "      <td>Chrome</td>\n",
       "      <td>M</td>\n",
       "      <td>34</td>\n",
       "      <td>2.083420e+09</td>\n",
       "      <td>0</td>\n",
       "    </tr>\n",
       "    <tr>\n",
       "      <th>4</th>\n",
       "      <td>108439</td>\n",
       "      <td>2/8/2015 21:11</td>\n",
       "      <td>4/9/2015 14:26</td>\n",
       "      <td>26</td>\n",
       "      <td>WMSXWGVPNIFBM</td>\n",
       "      <td>Ads</td>\n",
       "      <td>FireFox</td>\n",
       "      <td>M</td>\n",
       "      <td>33</td>\n",
       "      <td>3.207913e+09</td>\n",
       "      <td>0</td>\n",
       "    </tr>\n",
       "  </tbody>\n",
       "</table>\n",
       "</div>"
      ],
      "text/plain": [
       "   user_id      signup_time    purchase_time  purchase_value      device_id  \\\n",
       "0   285108   7/15/2015 4:36  9/10/2015 14:17              31  HZAKVUFTDOSFD   \n",
       "1   131009  1/24/2015 12:29   4/13/2015 4:53              31  XGQAJSOUJIZCC   \n",
       "2   328855   3/11/2015 0:54   4/5/2015 12:23              16  VCCTAYDCWKZIY   \n",
       "3   229053   1/7/2015 13:19   1/9/2015 10:12              29  MFFIHYNXCJLEY   \n",
       "4   108439   2/8/2015 21:11   4/9/2015 14:26              26  WMSXWGVPNIFBM   \n",
       "\n",
       "   source  browser sex  age    ip_address  class  \n",
       "0  Direct   Chrome   M   49  2.818400e+09      0  \n",
       "1     SEO       IE   F   21  3.251268e+09      0  \n",
       "2  Direct       IE   M   26  2.727760e+09      0  \n",
       "3     SEO   Chrome   M   34  2.083420e+09      0  \n",
       "4     Ads  FireFox   M   33  3.207913e+09      0  "
      ]
     },
     "execution_count": 20,
     "metadata": {},
     "output_type": "execute_result"
    }
   ],
   "source": [
    "training_data.head()"
   ]
  },
  {
   "cell_type": "markdown",
   "id": "ffeba902-b500-4bf9-bdf1-b8e7ae77d7b4",
   "metadata": {},
   "source": [
    "# Data size"
   ]
  },
  {
   "cell_type": "code",
   "execution_count": 21,
   "id": "939019b1-b2f0-4ac1-9e41-a47d48dccf8d",
   "metadata": {},
   "outputs": [
    {
     "data": {
      "text/plain": [
       "(120000, 11)"
      ]
     },
     "execution_count": 21,
     "metadata": {},
     "output_type": "execute_result"
    }
   ],
   "source": [
    "training_data.shape"
   ]
  },
  {
   "cell_type": "markdown",
   "id": "4a50db9f-be99-4de2-9e5e-e6e80ba16d51",
   "metadata": {},
   "source": [
    "The dataset is imblanced.  \n",
    "About 9.7% of the record is fraud.  "
   ]
  },
  {
   "cell_type": "code",
   "execution_count": 13,
   "id": "617624c4-f2de-4da9-a1f4-1235d1ba89b7",
   "metadata": {},
   "outputs": [
    {
     "data": {
      "text/plain": [
       "class\n",
       "0    108735\n",
       "1     11265\n",
       "Name: count, dtype: int64"
      ]
     },
     "execution_count": 13,
     "metadata": {},
     "output_type": "execute_result"
    }
   ],
   "source": [
    "training_data['class'].value_counts()"
   ]
  },
  {
   "cell_type": "code",
   "execution_count": 45,
   "id": "f686b3d1-d6c3-4307-9539-9cc54d2de443",
   "metadata": {},
   "outputs": [
    {
     "data": {
      "text/plain": [
       "9.652463382157125"
      ]
     },
     "execution_count": 45,
     "metadata": {},
     "output_type": "execute_result"
    }
   ],
   "source": [
    "training_data['class'].value_counts()[0] / training_data['class'].value_counts()[1]"
   ]
  },
  {
   "cell_type": "code",
   "execution_count": 46,
   "id": "8137d4c0-031d-44c4-825c-92562597154a",
   "metadata": {},
   "outputs": [
    {
     "data": {
      "text/html": [
       "<div>\n",
       "<style scoped>\n",
       "    .dataframe tbody tr th:only-of-type {\n",
       "        vertical-align: middle;\n",
       "    }\n",
       "\n",
       "    .dataframe tbody tr th {\n",
       "        vertical-align: top;\n",
       "    }\n",
       "\n",
       "    .dataframe thead th {\n",
       "        text-align: right;\n",
       "    }\n",
       "</style>\n",
       "<table border=\"1\" class=\"dataframe\">\n",
       "  <thead>\n",
       "    <tr style=\"text-align: right;\">\n",
       "      <th></th>\n",
       "      <th>purchase_value</th>\n",
       "      <th>age</th>\n",
       "    </tr>\n",
       "  </thead>\n",
       "  <tbody>\n",
       "    <tr>\n",
       "      <th>count</th>\n",
       "      <td>120000.000000</td>\n",
       "      <td>120000.000000</td>\n",
       "    </tr>\n",
       "    <tr>\n",
       "      <th>mean</th>\n",
       "      <td>36.881475</td>\n",
       "      <td>33.125250</td>\n",
       "    </tr>\n",
       "    <tr>\n",
       "      <th>std</th>\n",
       "      <td>18.325855</td>\n",
       "      <td>8.617081</td>\n",
       "    </tr>\n",
       "    <tr>\n",
       "      <th>min</th>\n",
       "      <td>9.000000</td>\n",
       "      <td>18.000000</td>\n",
       "    </tr>\n",
       "    <tr>\n",
       "      <th>25%</th>\n",
       "      <td>22.000000</td>\n",
       "      <td>27.000000</td>\n",
       "    </tr>\n",
       "    <tr>\n",
       "      <th>50%</th>\n",
       "      <td>34.000000</td>\n",
       "      <td>33.000000</td>\n",
       "    </tr>\n",
       "    <tr>\n",
       "      <th>75%</th>\n",
       "      <td>49.000000</td>\n",
       "      <td>39.000000</td>\n",
       "    </tr>\n",
       "    <tr>\n",
       "      <th>max</th>\n",
       "      <td>154.000000</td>\n",
       "      <td>76.000000</td>\n",
       "    </tr>\n",
       "  </tbody>\n",
       "</table>\n",
       "</div>"
      ],
      "text/plain": [
       "       purchase_value            age\n",
       "count   120000.000000  120000.000000\n",
       "mean        36.881475      33.125250\n",
       "std         18.325855       8.617081\n",
       "min          9.000000      18.000000\n",
       "25%         22.000000      27.000000\n",
       "50%         34.000000      33.000000\n",
       "75%         49.000000      39.000000\n",
       "max        154.000000      76.000000"
      ]
     },
     "execution_count": 46,
     "metadata": {},
     "output_type": "execute_result"
    }
   ],
   "source": [
    "training_data[['purchase_value', 'age']].describe()"
   ]
  },
  {
   "cell_type": "markdown",
   "id": "f4d9d92b-e3bc-447a-a86b-70f51f919f0c",
   "metadata": {},
   "source": [
    "# Data time range"
   ]
  },
  {
   "attachments": {},
   "cell_type": "markdown",
   "id": "296d20b2-4276-4c0b-9a3e-430f4a453053",
   "metadata": {},
   "source": [
    "The transactions happend during 2015 and signup did not happen after Aug 18th.\n",
    "\n",
    "Each time feature itself seems to be normal"
   ]
  },
  {
   "cell_type": "code",
   "execution_count": 23,
   "id": "ffb85fe3-2c7b-4797-a73a-404b304c2efb",
   "metadata": {},
   "outputs": [],
   "source": [
    "training_data['signup_time_dt'] = pd.to_datetime(training_data['signup_time'])\n",
    "training_data['purchase_time_dt'] = pd.to_datetime(training_data['purchase_time'])"
   ]
  },
  {
   "cell_type": "code",
   "execution_count": 54,
   "id": "f734f32d-0da4-48a9-9af8-85fc5700a1be",
   "metadata": {},
   "outputs": [
    {
     "data": {
      "text/plain": [
       "signup_time_dt\n",
       "2015-01-06 12:10:00    21\n",
       "2015-01-06 12:53:00    20\n",
       "2015-01-10 23:23:00    19\n",
       "2015-01-03 10:47:00    17\n",
       "2015-01-06 06:33:00    17\n",
       "                       ..\n",
       "2015-07-10 10:06:00     1\n",
       "2015-04-14 11:38:00     1\n",
       "2015-03-15 09:25:00     1\n",
       "2015-06-16 04:52:00     1\n",
       "2015-07-15 15:11:00     1\n",
       "Name: count, Length: 109111, dtype: int64"
      ]
     },
     "execution_count": 54,
     "metadata": {},
     "output_type": "execute_result"
    }
   ],
   "source": [
    "training_data['signup_time_dt'].value_counts()"
   ]
  },
  {
   "cell_type": "code",
   "execution_count": 24,
   "id": "5a61b3f6-ba3d-47a5-9451-1bab1b96e4a9",
   "metadata": {},
   "outputs": [
    {
     "data": {
      "text/plain": [
       "(Timestamp('2015-01-01 00:00:00'), Timestamp('2015-08-18 04:31:00'))"
      ]
     },
     "execution_count": 24,
     "metadata": {},
     "output_type": "execute_result"
    }
   ],
   "source": [
    "training_data['signup_time_dt'].min(), training_data['signup_time_dt'].max()"
   ]
  },
  {
   "cell_type": "code",
   "execution_count": 55,
   "id": "d060c534-553d-4a0e-8e84-da2e5b428be0",
   "metadata": {},
   "outputs": [
    {
     "data": {
      "text/plain": [
       "purchase_time_dt\n",
       "2015-01-06 12:53:00    20\n",
       "2015-01-06 12:10:00    19\n",
       "2015-01-10 23:23:00    18\n",
       "2015-01-03 10:47:00    16\n",
       "2015-01-06 06:33:00    16\n",
       "                       ..\n",
       "2015-04-25 19:25:00     1\n",
       "2015-05-02 18:24:00     1\n",
       "2015-06-30 06:09:00     1\n",
       "2015-11-13 05:48:00     1\n",
       "2015-09-03 13:45:00     1\n",
       "Name: count, Length: 100058, dtype: int64"
      ]
     },
     "execution_count": 55,
     "metadata": {},
     "output_type": "execute_result"
    }
   ],
   "source": [
    "training_data['purchase_time_dt'].value_counts()"
   ]
  },
  {
   "cell_type": "code",
   "execution_count": 26,
   "id": "5d461d60-8840-46e5-95c6-9b5617d82792",
   "metadata": {},
   "outputs": [
    {
     "data": {
      "text/plain": [
       "(Timestamp('2015-01-01 00:00:00'), Timestamp('2015-12-16 02:56:00'))"
      ]
     },
     "execution_count": 26,
     "metadata": {},
     "output_type": "execute_result"
    }
   ],
   "source": [
    "training_data['purchase_time_dt'].min(), training_data['purchase_time_dt'].max()"
   ]
  },
  {
   "cell_type": "markdown",
   "id": "abdcfcfc-c5d7-41a6-9c19-60a0509d0ff8",
   "metadata": {},
   "source": [
    "## Time Interval"
   ]
  },
  {
   "cell_type": "code",
   "execution_count": 36,
   "id": "b871bd0d-095a-4908-b21b-737a138248bf",
   "metadata": {},
   "outputs": [],
   "source": [
    "training_data['days_signup_purchase'] = training_data['purchase_time_dt'] - training_data['signup_time_dt']"
   ]
  },
  {
   "cell_type": "markdown",
   "id": "0173b6ee-0118-42b9-a304-7c289b4f77a5",
   "metadata": {},
   "source": [
    "The time difference between signup and the first purchase is from 0 days to 119 days.  \n",
    "0 days records are suspicious.  "
   ]
  },
  {
   "cell_type": "code",
   "execution_count": 50,
   "id": "d99e0e52-c0bc-49d7-b3f8-c1ef314a1ef3",
   "metadata": {},
   "outputs": [
    {
     "data": {
      "text/plain": [
       "days_signup_purchase\n",
       "0 days 00:00:00      5936\n",
       "0 days 00:01:00        85\n",
       "101 days 03:57:00       7\n",
       "16 days 14:41:00        6\n",
       "38 days 11:41:00        6\n",
       "                     ... \n",
       "25 days 10:07:00        1\n",
       "92 days 12:32:00        1\n",
       "44 days 10:20:00        1\n",
       "88 days 22:41:00        1\n",
       "39 days 15:20:00        1\n",
       "Name: count, Length: 83730, dtype: int64"
      ]
     },
     "execution_count": 50,
     "metadata": {},
     "output_type": "execute_result"
    }
   ],
   "source": [
    "training_data['days_signup_purchase'].value_counts()"
   ]
  },
  {
   "cell_type": "code",
   "execution_count": 37,
   "id": "ce22a25f-3bd1-4957-b27c-9a8b7f475731",
   "metadata": {},
   "outputs": [
    {
     "data": {
      "text/plain": [
       "(Timedelta('0 days 00:00:00'), Timedelta('119 days 23:59:00'))"
      ]
     },
     "execution_count": 37,
     "metadata": {},
     "output_type": "execute_result"
    }
   ],
   "source": [
    "training_data['days_signup_purchase'].min(), training_data['days_signup_purchase'].max()"
   ]
  },
  {
   "cell_type": "markdown",
   "id": "29c94bd6-88d9-42f7-991b-0ed5d6885fbd",
   "metadata": {},
   "source": [
    "As suspected, all of the records that has 0 time interval between signup and purchase are fraud records.  \n",
    "It is nearlly half of the records, the time interval is signigicant feature to predict fraud.  "
   ]
  },
  {
   "cell_type": "code",
   "execution_count": 52,
   "id": "8c35ad25-6b70-416a-869a-0edf26dfc3cd",
   "metadata": {},
   "outputs": [
    {
     "data": {
      "text/plain": [
       "class\n",
       "1    6021\n",
       "Name: count, dtype: int64"
      ]
     },
     "execution_count": 52,
     "metadata": {},
     "output_type": "execute_result"
    }
   ],
   "source": [
    "op1 = training_data['days_signup_purchase'] == '0 days 00:00:00'\n",
    "op2 = training_data['days_signup_purchase'] == '0 days 00:01:00'\n",
    "training_data.loc[op1|op2, 'class'].value_counts()"
   ]
  },
  {
   "cell_type": "code",
   "execution_count": 53,
   "id": "88177701-7d35-4cfa-85ce-4ba0759c882f",
   "metadata": {},
   "outputs": [
    {
     "data": {
      "text/plain": [
       "0.5344873501997337"
      ]
     },
     "execution_count": 53,
     "metadata": {},
     "output_type": "execute_result"
    }
   ],
   "source": [
    "6021 / 11265"
   ]
  },
  {
   "cell_type": "markdown",
   "id": "24f14147-727d-4804-92fe-613296dd10d3",
   "metadata": {},
   "source": [
    "Fraud transation spread overall"
   ]
  },
  {
   "cell_type": "code",
   "execution_count": 29,
   "id": "e2e3c81c-42d6-47bd-aedf-8939618551ff",
   "metadata": {},
   "outputs": [
    {
     "data": {
      "text/plain": [
       "(Timestamp('2015-01-01 00:00:00'), Timestamp('2015-08-18 04:31:00'))"
      ]
     },
     "execution_count": 29,
     "metadata": {},
     "output_type": "execute_result"
    }
   ],
   "source": [
    "op1 = training_data['class'] == 1\n",
    "training_data.loc[op1, 'signup_time_dt'].min(), training_data.loc[op1, 'signup_time_dt'].max()"
   ]
  },
  {
   "cell_type": "code",
   "execution_count": 30,
   "id": "c7956bfe-3bc7-4dfb-84ea-05210b5de1cf",
   "metadata": {},
   "outputs": [
    {
     "data": {
      "text/plain": [
       "(Timestamp('2015-01-01 00:00:00'), Timestamp('2015-12-13 12:00:00'))"
      ]
     },
     "execution_count": 30,
     "metadata": {},
     "output_type": "execute_result"
    }
   ],
   "source": [
    "op1 = training_data['class'] == 1\n",
    "training_data.loc[op1, 'purchase_time_dt'].min(), training_data.loc[op1, 'purchase_time_dt'].max()"
   ]
  },
  {
   "cell_type": "code",
   "execution_count": 57,
   "id": "66533c1c-79b6-430f-abb0-54ecac517f50",
   "metadata": {},
   "outputs": [],
   "source": [
    "training_data['signup_time_h_dt'] = training_data['signup_time_dt'].dt.hour\n",
    "training_data['purchase_time_h_dt'] = training_data['purchase_time_dt'].dt.hour"
   ]
  },
  {
   "cell_type": "markdown",
   "id": "19b3116f-d71b-4bd2-a36c-9b47ca59f634",
   "metadata": {},
   "source": [
    "## Time"
   ]
  },
  {
   "cell_type": "markdown",
   "id": "969fa34d-ac0a-4298-897c-c8f659966c35",
   "metadata": {},
   "source": [
    "There is no specific time that fraud happens"
   ]
  },
  {
   "cell_type": "code",
   "execution_count": 71,
   "id": "f29172d0-050d-4df9-8e55-2b15e7ccd684",
   "metadata": {},
   "outputs": [
    {
     "data": {
      "text/plain": [
       "signup_time_h_dt\n",
       "0                   456\n",
       "1                   410\n",
       "2                   484\n",
       "3                   482\n",
       "4                   406\n",
       "5                   424\n",
       "6                   467\n",
       "7                   424\n",
       "8                   506\n",
       "9                   558\n",
       "10                  502\n",
       "11                  441\n",
       "12                  483\n",
       "13                  482\n",
       "14                  491\n",
       "15                  481\n",
       "16                  476\n",
       "17                  545\n",
       "18                  506\n",
       "19                  536\n",
       "20                  399\n",
       "21                  415\n",
       "22                  422\n",
       "23                  469\n",
       "Name: count, dtype: int64"
      ]
     },
     "execution_count": 71,
     "metadata": {},
     "output_type": "execute_result"
    }
   ],
   "source": [
    "op1 = training_data['class'] == 1\n",
    "training_data.loc[op1, ['signup_time_h_dt']].value_counts().sort_index()"
   ]
  },
  {
   "cell_type": "code",
   "execution_count": 70,
   "id": "578e50d6-bbcc-49b8-959b-b8ee7505f25e",
   "metadata": {},
   "outputs": [
    {
     "data": {
      "text/plain": [
       "purchase_time_h_dt\n",
       "0                     441\n",
       "1                     450\n",
       "2                     467\n",
       "3                     492\n",
       "4                     398\n",
       "5                     439\n",
       "6                     482\n",
       "7                     432\n",
       "8                     523\n",
       "9                     531\n",
       "10                    487\n",
       "11                    447\n",
       "12                    493\n",
       "13                    464\n",
       "14                    477\n",
       "15                    495\n",
       "16                    486\n",
       "17                    549\n",
       "18                    482\n",
       "19                    484\n",
       "20                    409\n",
       "21                    454\n",
       "22                    413\n",
       "23                    470\n",
       "Name: count, dtype: int64"
      ]
     },
     "execution_count": 70,
     "metadata": {},
     "output_type": "execute_result"
    }
   ],
   "source": [
    "op1 = training_data['class'] == 1\n",
    "training_data.loc[op1, ['purchase_time_h_dt']].value_counts().sort_index()"
   ]
  },
  {
   "cell_type": "markdown",
   "id": "2a3bf7d8-02d2-40da-9718-76596fc66122",
   "metadata": {},
   "source": [
    "# Purchase values"
   ]
  },
  {
   "cell_type": "markdown",
   "id": "d1dfecbd-59b3-49cc-b8ce-dff63564ea12",
   "metadata": {},
   "source": [
    "The distribution of Purchase value right skewed.  \n",
    "Some records that its value exceed around 1800 seems to be suspicious.  "
   ]
  },
  {
   "cell_type": "code",
   "execution_count": 97,
   "id": "b86f7e95-cf82-4dcf-8c15-8aba76d4ac37",
   "metadata": {},
   "outputs": [
    {
     "data": {
      "text/plain": [
       "<Axes: >"
      ]
     },
     "execution_count": 97,
     "metadata": {},
     "output_type": "execute_result"
    },
    {
     "data": {
      "image/png": "[encoded data removed]",
      "text/plain": [
       "<Figure size 500x200 with 1 Axes>"
      ]
     },
     "metadata": {},
     "output_type": "display_data"
    }
   ],
   "source": [
    "training_data[['purchase_value']].value_counts().hist(figsize=(5,2))"
   ]
  },
  {
   "cell_type": "code",
   "execution_count": 111,
   "id": "acf9c549-fabd-45ed-acaf-c5c6fbb1d448",
   "metadata": {},
   "outputs": [],
   "source": [
    "training_data['purchase_value'] = training_data['purchase_value'].astype(int)"
   ]
  },
  {
   "cell_type": "code",
   "execution_count": 117,
   "id": "0f4afa7c-4a94-4fde-962d-7b1782bd5278",
   "metadata": {},
   "outputs": [
    {
     "data": {
      "text/plain": [
       "(120000,)"
      ]
     },
     "execution_count": 117,
     "metadata": {},
     "output_type": "execute_result"
    }
   ],
   "source": [
    "op1 = training_data['purchase_value'] >= 1800\n",
    "training_data.loc[op1, ['class']].value_counts()"
   ]
  },
  {
   "cell_type": "markdown",
   "id": "dd1a1e13-e7f2-4d6f-a20f-5d4482f2d617",
   "metadata": {},
   "source": [
    "# User id"
   ]
  },
  {
   "cell_type": "code",
   "execution_count": 14,
   "id": "f95f828d-78dd-4126-ae44-9ebdc0898917",
   "metadata": {},
   "outputs": [
    {
     "data": {
      "text/plain": [
       "user_id\n",
       "285108    1\n",
       "375847    1\n",
       "340683    1\n",
       "302338    1\n",
       "47270     1\n",
       "         ..\n",
       "170034    1\n",
       "87898     1\n",
       "180229    1\n",
       "290767    1\n",
       "341401    1\n",
       "Name: count, Length: 120000, dtype: int64"
      ]
     },
     "execution_count": 14,
     "metadata": {},
     "output_type": "execute_result"
    }
   ],
   "source": [
    "training_data['user_id'].value_counts()"
   ]
  },
  {
   "cell_type": "code",
   "execution_count": null,
   "id": "8415703a-640f-4f0e-9a88-03c51d5fbc12",
   "metadata": {},
   "outputs": [],
   "source": []
  }
 ],
 "metadata": {
  "kernelspec": {
   "display_name": "Python 3 (ipykernel)",
   "language": "python",
   "name": "python3"
  },
  "language_info": {
   "codemirror_mode": {
    "name": "ipython",
    "version": 3
   },
   "file_extension": ".py",
   "mimetype": "text/x-python",
   "name": "python",
   "nbconvert_exporter": "python",
   "pygments_lexer": "ipython3",
   "version": "3.11.5"
  }
 },
 "nbformat": 4,
 "nbformat_minor": 5
}
